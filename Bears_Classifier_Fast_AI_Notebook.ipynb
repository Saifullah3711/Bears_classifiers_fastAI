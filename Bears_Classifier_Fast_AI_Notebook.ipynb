{
  "nbformat": 4,
  "nbformat_minor": 0,
  "metadata": {
    "colab": {
      "name": "FAST AI - Chapter 2 Notebooks - Bears Classifier .ipynb",
      "provenance": [],
      "collapsed_sections": []
    },
    "kernelspec": {
      "name": "python3",
      "display_name": "Python 3"
    },
    "language_info": {
      "name": "python"
    },
    "accelerator": "GPU",
    "widgets": {
      "application/vnd.jupyter.widget-state+json": {
        "5adfc8b1ab5e4a1dae69bbd762904ab6": {
          "model_module": "@jupyter-widgets/controls",
          "model_name": "HBoxModel",
          "model_module_version": "1.5.0",
          "state": {
            "_view_name": "HBoxView",
            "_dom_classes": [],
            "_model_name": "HBoxModel",
            "_view_module": "@jupyter-widgets/controls",
            "_model_module_version": "1.5.0",
            "_view_count": null,
            "_view_module_version": "1.5.0",
            "box_style": "",
            "layout": "IPY_MODEL_fc66114518164ab5ab0b0748d377e7bc",
            "_model_module": "@jupyter-widgets/controls",
            "children": [
              "IPY_MODEL_0e905328ad394f6283cff2e5544f7ed9",
              "IPY_MODEL_f104c8b790754c048b1e50dc7daf8219",
              "IPY_MODEL_4c09d03cdda84a6383d65580722331d0",
              "IPY_MODEL_867ca59eeac44421b9b85692f09bfaf3",
              "IPY_MODEL_26475c1d897340a6b42c6405f386f030",
              "IPY_MODEL_8839b1ca849449d9bfc18c03d98478a0",
              "IPY_MODEL_4e25cd2aef1942e7b19d48451ce24c0f"
            ]
          }
        },
        "fc66114518164ab5ab0b0748d377e7bc": {
          "model_module": "@jupyter-widgets/base",
          "model_name": "LayoutModel",
          "model_module_version": "1.2.0",
          "state": {
            "_view_name": "LayoutView",
            "grid_template_rows": null,
            "right": null,
            "justify_content": null,
            "_view_module": "@jupyter-widgets/base",
            "overflow": null,
            "_model_module_version": "1.2.0",
            "_view_count": null,
            "flex_flow": null,
            "width": null,
            "min_width": null,
            "border": null,
            "align_items": null,
            "bottom": null,
            "_model_module": "@jupyter-widgets/base",
            "top": null,
            "grid_column": null,
            "overflow_y": null,
            "overflow_x": null,
            "grid_auto_flow": null,
            "grid_area": null,
            "grid_template_columns": null,
            "flex": null,
            "_model_name": "LayoutModel",
            "justify_items": null,
            "grid_row": null,
            "max_height": null,
            "align_content": null,
            "visibility": null,
            "align_self": null,
            "height": null,
            "min_height": null,
            "padding": null,
            "grid_auto_rows": null,
            "grid_gap": null,
            "max_width": null,
            "order": null,
            "_view_module_version": "1.2.0",
            "grid_template_areas": null,
            "object_position": null,
            "object_fit": null,
            "grid_auto_columns": null,
            "margin": null,
            "display": null,
            "left": null
          }
        },
        "0e905328ad394f6283cff2e5544f7ed9": {
          "model_module": "@jupyter-widgets/controls",
          "model_name": "ButtonModel",
          "model_module_version": "1.5.0",
          "state": {
            "_view_name": "ButtonView",
            "style": "IPY_MODEL_8024c2a5ba6d4441904402807a4aed6a",
            "_dom_classes": [],
            "description": "|<<",
            "_model_name": "ButtonModel",
            "button_style": "",
            "_view_module": "@jupyter-widgets/controls",
            "_model_module_version": "1.5.0",
            "tooltip": "",
            "_view_count": null,
            "disabled": true,
            "_view_module_version": "1.5.0",
            "layout": "IPY_MODEL_e7da080f031c47869b4a4f55a2af9f40",
            "_model_module": "@jupyter-widgets/controls",
            "icon": ""
          }
        },
        "f104c8b790754c048b1e50dc7daf8219": {
          "model_module": "@jupyter-widgets/controls",
          "model_name": "ButtonModel",
          "model_module_version": "1.5.0",
          "state": {
            "_view_name": "ButtonView",
            "style": "IPY_MODEL_7325c9ff5a184ac99be88619abb8a76a",
            "_dom_classes": [],
            "description": "<<",
            "_model_name": "ButtonModel",
            "button_style": "",
            "_view_module": "@jupyter-widgets/controls",
            "_model_module_version": "1.5.0",
            "tooltip": "",
            "_view_count": null,
            "disabled": true,
            "_view_module_version": "1.5.0",
            "layout": "IPY_MODEL_f02250cdf041463583d5c8c6e8cc044f",
            "_model_module": "@jupyter-widgets/controls",
            "icon": ""
          }
        },
        "4c09d03cdda84a6383d65580722331d0": {
          "model_module": "@jupyter-widgets/controls",
          "model_name": "LabelModel",
          "model_module_version": "1.5.0",
          "state": {
            "_view_name": "LabelView",
            "style": "IPY_MODEL_1cfb4e115cf244a99dee978d06be7a3b",
            "_dom_classes": [],
            "description": "",
            "_model_name": "LabelModel",
            "placeholder": "​",
            "_view_module": "@jupyter-widgets/controls",
            "_model_module_version": "1.5.0",
            "value": "Page 1 of 13",
            "_view_count": null,
            "_view_module_version": "1.5.0",
            "description_tooltip": null,
            "_model_module": "@jupyter-widgets/controls",
            "layout": "IPY_MODEL_06356ea66041455ebb68aaf3d6f31ca7"
          }
        },
        "867ca59eeac44421b9b85692f09bfaf3": {
          "model_module": "@jupyter-widgets/controls",
          "model_name": "ButtonModel",
          "model_module_version": "1.5.0",
          "state": {
            "_view_name": "ButtonView",
            "style": "IPY_MODEL_354c4b08ef0e4b7d9c273ecd1e91314e",
            "_dom_classes": [],
            "description": ">>",
            "_model_name": "ButtonModel",
            "button_style": "",
            "_view_module": "@jupyter-widgets/controls",
            "_model_module_version": "1.5.0",
            "tooltip": "",
            "_view_count": null,
            "disabled": false,
            "_view_module_version": "1.5.0",
            "layout": "IPY_MODEL_6272ef28403f4851b3060827633ecf94",
            "_model_module": "@jupyter-widgets/controls",
            "icon": ""
          }
        },
        "26475c1d897340a6b42c6405f386f030": {
          "model_module": "@jupyter-widgets/controls",
          "model_name": "ButtonModel",
          "model_module_version": "1.5.0",
          "state": {
            "_view_name": "ButtonView",
            "style": "IPY_MODEL_205b6b6467db4e6cab16892114e389f8",
            "_dom_classes": [],
            "description": ">>|",
            "_model_name": "ButtonModel",
            "button_style": "",
            "_view_module": "@jupyter-widgets/controls",
            "_model_module_version": "1.5.0",
            "tooltip": "",
            "_view_count": null,
            "disabled": false,
            "_view_module_version": "1.5.0",
            "layout": "IPY_MODEL_e01008590c4b422191fac7629a00bcae",
            "_model_module": "@jupyter-widgets/controls",
            "icon": ""
          }
        },
        "8839b1ca849449d9bfc18c03d98478a0": {
          "model_module": "@jupyter-widgets/controls",
          "model_name": "DropdownModel",
          "model_module_version": "1.5.0",
          "state": {
            "_options_labels": [
              "black_bear",
              "grizzly_bear",
              "teddy_bear"
            ],
            "_view_name": "DropdownView",
            "style": "IPY_MODEL_c7127802ec3e4473ba2c7fce538ece61",
            "_dom_classes": [],
            "description": "Folder: ",
            "_model_name": "DropdownModel",
            "index": 0,
            "_view_module": "@jupyter-widgets/controls",
            "_model_module_version": "1.5.0",
            "_view_count": null,
            "disabled": false,
            "_view_module_version": "1.5.0",
            "description_tooltip": null,
            "_model_module": "@jupyter-widgets/controls",
            "layout": "IPY_MODEL_a0fb191069df4899bf0cdee4b5843645"
          }
        },
        "4e25cd2aef1942e7b19d48451ce24c0f": {
          "model_module": "@jupyter-widgets/controls",
          "model_name": "ButtonModel",
          "model_module_version": "1.5.0",
          "state": {
            "_view_name": "ButtonView",
            "style": "IPY_MODEL_5ac9169a15744f02aeae49639da71a99",
            "_dom_classes": [],
            "description": "↻",
            "_model_name": "ButtonModel",
            "button_style": "",
            "_view_module": "@jupyter-widgets/controls",
            "_model_module_version": "1.5.0",
            "tooltip": "",
            "_view_count": null,
            "disabled": false,
            "_view_module_version": "1.5.0",
            "layout": "IPY_MODEL_0cf3e9c3e3c1469a9d7e35cbdafc4fbd",
            "_model_module": "@jupyter-widgets/controls",
            "icon": ""
          }
        },
        "8024c2a5ba6d4441904402807a4aed6a": {
          "model_module": "@jupyter-widgets/controls",
          "model_name": "ButtonStyleModel",
          "model_module_version": "1.5.0",
          "state": {
            "_view_name": "StyleView",
            "_model_name": "ButtonStyleModel",
            "_view_module": "@jupyter-widgets/base",
            "_model_module_version": "1.5.0",
            "_view_count": null,
            "button_color": null,
            "font_weight": "",
            "_view_module_version": "1.2.0",
            "_model_module": "@jupyter-widgets/controls"
          }
        },
        "e7da080f031c47869b4a4f55a2af9f40": {
          "model_module": "@jupyter-widgets/base",
          "model_name": "LayoutModel",
          "model_module_version": "1.2.0",
          "state": {
            "_view_name": "LayoutView",
            "grid_template_rows": null,
            "right": null,
            "justify_content": null,
            "_view_module": "@jupyter-widgets/base",
            "overflow": null,
            "_model_module_version": "1.2.0",
            "_view_count": null,
            "flex_flow": null,
            "width": "60px",
            "min_width": null,
            "border": null,
            "align_items": null,
            "bottom": null,
            "_model_module": "@jupyter-widgets/base",
            "top": null,
            "grid_column": null,
            "overflow_y": null,
            "overflow_x": null,
            "grid_auto_flow": null,
            "grid_area": null,
            "grid_template_columns": null,
            "flex": null,
            "_model_name": "LayoutModel",
            "justify_items": null,
            "grid_row": null,
            "max_height": null,
            "align_content": null,
            "visibility": null,
            "align_self": null,
            "height": null,
            "min_height": null,
            "padding": null,
            "grid_auto_rows": null,
            "grid_gap": null,
            "max_width": null,
            "order": null,
            "_view_module_version": "1.2.0",
            "grid_template_areas": null,
            "object_position": null,
            "object_fit": null,
            "grid_auto_columns": null,
            "margin": null,
            "display": null,
            "left": null
          }
        },
        "7325c9ff5a184ac99be88619abb8a76a": {
          "model_module": "@jupyter-widgets/controls",
          "model_name": "ButtonStyleModel",
          "model_module_version": "1.5.0",
          "state": {
            "_view_name": "StyleView",
            "_model_name": "ButtonStyleModel",
            "_view_module": "@jupyter-widgets/base",
            "_model_module_version": "1.5.0",
            "_view_count": null,
            "button_color": null,
            "font_weight": "",
            "_view_module_version": "1.2.0",
            "_model_module": "@jupyter-widgets/controls"
          }
        },
        "f02250cdf041463583d5c8c6e8cc044f": {
          "model_module": "@jupyter-widgets/base",
          "model_name": "LayoutModel",
          "model_module_version": "1.2.0",
          "state": {
            "_view_name": "LayoutView",
            "grid_template_rows": null,
            "right": null,
            "justify_content": null,
            "_view_module": "@jupyter-widgets/base",
            "overflow": null,
            "_model_module_version": "1.2.0",
            "_view_count": null,
            "flex_flow": null,
            "width": "60px",
            "min_width": null,
            "border": null,
            "align_items": null,
            "bottom": null,
            "_model_module": "@jupyter-widgets/base",
            "top": null,
            "grid_column": null,
            "overflow_y": null,
            "overflow_x": null,
            "grid_auto_flow": null,
            "grid_area": null,
            "grid_template_columns": null,
            "flex": null,
            "_model_name": "LayoutModel",
            "justify_items": null,
            "grid_row": null,
            "max_height": null,
            "align_content": null,
            "visibility": null,
            "align_self": null,
            "height": null,
            "min_height": null,
            "padding": null,
            "grid_auto_rows": null,
            "grid_gap": null,
            "max_width": null,
            "order": null,
            "_view_module_version": "1.2.0",
            "grid_template_areas": null,
            "object_position": null,
            "object_fit": null,
            "grid_auto_columns": null,
            "margin": null,
            "display": null,
            "left": null
          }
        },
        "1cfb4e115cf244a99dee978d06be7a3b": {
          "model_module": "@jupyter-widgets/controls",
          "model_name": "DescriptionStyleModel",
          "model_module_version": "1.5.0",
          "state": {
            "_view_name": "StyleView",
            "_model_name": "DescriptionStyleModel",
            "description_width": "",
            "_view_module": "@jupyter-widgets/base",
            "_model_module_version": "1.5.0",
            "_view_count": null,
            "_view_module_version": "1.2.0",
            "_model_module": "@jupyter-widgets/controls"
          }
        },
        "06356ea66041455ebb68aaf3d6f31ca7": {
          "model_module": "@jupyter-widgets/base",
          "model_name": "LayoutModel",
          "model_module_version": "1.2.0",
          "state": {
            "_view_name": "LayoutView",
            "grid_template_rows": null,
            "right": null,
            "justify_content": "center",
            "_view_module": "@jupyter-widgets/base",
            "overflow": null,
            "_model_module_version": "1.2.0",
            "_view_count": null,
            "flex_flow": null,
            "width": "100px",
            "min_width": null,
            "border": null,
            "align_items": null,
            "bottom": null,
            "_model_module": "@jupyter-widgets/base",
            "top": null,
            "grid_column": null,
            "overflow_y": null,
            "overflow_x": null,
            "grid_auto_flow": null,
            "grid_area": null,
            "grid_template_columns": null,
            "flex": null,
            "_model_name": "LayoutModel",
            "justify_items": null,
            "grid_row": null,
            "max_height": null,
            "align_content": null,
            "visibility": null,
            "align_self": null,
            "height": null,
            "min_height": null,
            "padding": null,
            "grid_auto_rows": null,
            "grid_gap": null,
            "max_width": null,
            "order": null,
            "_view_module_version": "1.2.0",
            "grid_template_areas": null,
            "object_position": null,
            "object_fit": null,
            "grid_auto_columns": null,
            "margin": null,
            "display": "flex",
            "left": null
          }
        },
        "354c4b08ef0e4b7d9c273ecd1e91314e": {
          "model_module": "@jupyter-widgets/controls",
          "model_name": "ButtonStyleModel",
          "model_module_version": "1.5.0",
          "state": {
            "_view_name": "StyleView",
            "_model_name": "ButtonStyleModel",
            "_view_module": "@jupyter-widgets/base",
            "_model_module_version": "1.5.0",
            "_view_count": null,
            "button_color": null,
            "font_weight": "",
            "_view_module_version": "1.2.0",
            "_model_module": "@jupyter-widgets/controls"
          }
        },
        "6272ef28403f4851b3060827633ecf94": {
          "model_module": "@jupyter-widgets/base",
          "model_name": "LayoutModel",
          "model_module_version": "1.2.0",
          "state": {
            "_view_name": "LayoutView",
            "grid_template_rows": null,
            "right": null,
            "justify_content": null,
            "_view_module": "@jupyter-widgets/base",
            "overflow": null,
            "_model_module_version": "1.2.0",
            "_view_count": null,
            "flex_flow": null,
            "width": "60px",
            "min_width": null,
            "border": null,
            "align_items": null,
            "bottom": null,
            "_model_module": "@jupyter-widgets/base",
            "top": null,
            "grid_column": null,
            "overflow_y": null,
            "overflow_x": null,
            "grid_auto_flow": null,
            "grid_area": null,
            "grid_template_columns": null,
            "flex": null,
            "_model_name": "LayoutModel",
            "justify_items": null,
            "grid_row": null,
            "max_height": null,
            "align_content": null,
            "visibility": null,
            "align_self": null,
            "height": null,
            "min_height": null,
            "padding": null,
            "grid_auto_rows": null,
            "grid_gap": null,
            "max_width": null,
            "order": null,
            "_view_module_version": "1.2.0",
            "grid_template_areas": null,
            "object_position": null,
            "object_fit": null,
            "grid_auto_columns": null,
            "margin": null,
            "display": null,
            "left": null
          }
        },
        "205b6b6467db4e6cab16892114e389f8": {
          "model_module": "@jupyter-widgets/controls",
          "model_name": "ButtonStyleModel",
          "model_module_version": "1.5.0",
          "state": {
            "_view_name": "StyleView",
            "_model_name": "ButtonStyleModel",
            "_view_module": "@jupyter-widgets/base",
            "_model_module_version": "1.5.0",
            "_view_count": null,
            "button_color": null,
            "font_weight": "",
            "_view_module_version": "1.2.0",
            "_model_module": "@jupyter-widgets/controls"
          }
        },
        "e01008590c4b422191fac7629a00bcae": {
          "model_module": "@jupyter-widgets/base",
          "model_name": "LayoutModel",
          "model_module_version": "1.2.0",
          "state": {
            "_view_name": "LayoutView",
            "grid_template_rows": null,
            "right": null,
            "justify_content": null,
            "_view_module": "@jupyter-widgets/base",
            "overflow": null,
            "_model_module_version": "1.2.0",
            "_view_count": null,
            "flex_flow": null,
            "width": "60px",
            "min_width": null,
            "border": null,
            "align_items": null,
            "bottom": null,
            "_model_module": "@jupyter-widgets/base",
            "top": null,
            "grid_column": null,
            "overflow_y": null,
            "overflow_x": null,
            "grid_auto_flow": null,
            "grid_area": null,
            "grid_template_columns": null,
            "flex": null,
            "_model_name": "LayoutModel",
            "justify_items": null,
            "grid_row": null,
            "max_height": null,
            "align_content": null,
            "visibility": null,
            "align_self": null,
            "height": null,
            "min_height": null,
            "padding": null,
            "grid_auto_rows": null,
            "grid_gap": null,
            "max_width": null,
            "order": null,
            "_view_module_version": "1.2.0",
            "grid_template_areas": null,
            "object_position": null,
            "object_fit": null,
            "grid_auto_columns": null,
            "margin": null,
            "display": null,
            "left": null
          }
        },
        "c7127802ec3e4473ba2c7fce538ece61": {
          "model_module": "@jupyter-widgets/controls",
          "model_name": "DescriptionStyleModel",
          "model_module_version": "1.5.0",
          "state": {
            "_view_name": "StyleView",
            "_model_name": "DescriptionStyleModel",
            "description_width": "",
            "_view_module": "@jupyter-widgets/base",
            "_model_module_version": "1.5.0",
            "_view_count": null,
            "_view_module_version": "1.2.0",
            "_model_module": "@jupyter-widgets/controls"
          }
        },
        "a0fb191069df4899bf0cdee4b5843645": {
          "model_module": "@jupyter-widgets/base",
          "model_name": "LayoutModel",
          "model_module_version": "1.2.0",
          "state": {
            "_view_name": "LayoutView",
            "grid_template_rows": null,
            "right": null,
            "justify_content": null,
            "_view_module": "@jupyter-widgets/base",
            "overflow": null,
            "_model_module_version": "1.2.0",
            "_view_count": null,
            "flex_flow": null,
            "width": null,
            "min_width": null,
            "border": null,
            "align_items": null,
            "bottom": null,
            "_model_module": "@jupyter-widgets/base",
            "top": null,
            "grid_column": null,
            "overflow_y": null,
            "overflow_x": null,
            "grid_auto_flow": null,
            "grid_area": null,
            "grid_template_columns": null,
            "flex": null,
            "_model_name": "LayoutModel",
            "justify_items": null,
            "grid_row": null,
            "max_height": null,
            "align_content": null,
            "visibility": null,
            "align_self": null,
            "height": null,
            "min_height": null,
            "padding": null,
            "grid_auto_rows": null,
            "grid_gap": null,
            "max_width": null,
            "order": null,
            "_view_module_version": "1.2.0",
            "grid_template_areas": null,
            "object_position": null,
            "object_fit": null,
            "grid_auto_columns": null,
            "margin": null,
            "display": null,
            "left": null
          }
        },
        "5ac9169a15744f02aeae49639da71a99": {
          "model_module": "@jupyter-widgets/controls",
          "model_name": "ButtonStyleModel",
          "model_module_version": "1.5.0",
          "state": {
            "_view_name": "StyleView",
            "_model_name": "ButtonStyleModel",
            "_view_module": "@jupyter-widgets/base",
            "_model_module_version": "1.5.0",
            "_view_count": null,
            "button_color": null,
            "font_weight": "",
            "_view_module_version": "1.2.0",
            "_model_module": "@jupyter-widgets/controls"
          }
        },
        "0cf3e9c3e3c1469a9d7e35cbdafc4fbd": {
          "model_module": "@jupyter-widgets/base",
          "model_name": "LayoutModel",
          "model_module_version": "1.2.0",
          "state": {
            "_view_name": "LayoutView",
            "grid_template_rows": null,
            "right": null,
            "justify_content": null,
            "_view_module": "@jupyter-widgets/base",
            "overflow": null,
            "_model_module_version": "1.2.0",
            "_view_count": null,
            "flex_flow": null,
            "width": "40px",
            "min_width": null,
            "border": null,
            "align_items": null,
            "bottom": null,
            "_model_module": "@jupyter-widgets/base",
            "top": null,
            "grid_column": null,
            "overflow_y": null,
            "overflow_x": null,
            "grid_auto_flow": null,
            "grid_area": null,
            "grid_template_columns": null,
            "flex": null,
            "_model_name": "LayoutModel",
            "justify_items": null,
            "grid_row": null,
            "max_height": null,
            "align_content": null,
            "visibility": null,
            "align_self": null,
            "height": null,
            "min_height": null,
            "padding": null,
            "grid_auto_rows": null,
            "grid_gap": null,
            "max_width": null,
            "order": null,
            "_view_module_version": "1.2.0",
            "grid_template_areas": null,
            "object_position": null,
            "object_fit": null,
            "grid_auto_columns": null,
            "margin": "0px 0px 0px 10px",
            "display": null,
            "left": null
          }
        },
        "dc3333faa2bf4a21bbbbfbf16cf3de68": {
          "model_module": "@jupyter-widgets/controls",
          "model_name": "HTMLModel",
          "model_module_version": "1.5.0",
          "state": {
            "_view_name": "HTMLView",
            "style": "IPY_MODEL_597ca79e407f4645b4048d7fe41833ef",
            "_dom_classes": [],
            "description": "",
            "_model_name": "HTMLModel",
            "placeholder": "​",
            "_view_module": "@jupyter-widgets/controls",
            "_model_module_version": "1.5.0",
            "value": "<h2>No images left to display in this folder.</h2>",
            "_view_count": null,
            "_view_module_version": "1.5.0",
            "description_tooltip": null,
            "_model_module": "@jupyter-widgets/controls",
            "layout": "IPY_MODEL_cd9a040472014e4fa5ceb6d09e928f15"
          }
        },
        "597ca79e407f4645b4048d7fe41833ef": {
          "model_module": "@jupyter-widgets/controls",
          "model_name": "DescriptionStyleModel",
          "model_module_version": "1.5.0",
          "state": {
            "_view_name": "StyleView",
            "_model_name": "DescriptionStyleModel",
            "description_width": "",
            "_view_module": "@jupyter-widgets/base",
            "_model_module_version": "1.5.0",
            "_view_count": null,
            "_view_module_version": "1.2.0",
            "_model_module": "@jupyter-widgets/controls"
          }
        },
        "cd9a040472014e4fa5ceb6d09e928f15": {
          "model_module": "@jupyter-widgets/base",
          "model_name": "LayoutModel",
          "model_module_version": "1.2.0",
          "state": {
            "_view_name": "LayoutView",
            "grid_template_rows": null,
            "right": null,
            "justify_content": null,
            "_view_module": "@jupyter-widgets/base",
            "overflow": null,
            "_model_module_version": "1.2.0",
            "_view_count": null,
            "flex_flow": null,
            "width": null,
            "min_width": null,
            "border": null,
            "align_items": null,
            "bottom": null,
            "_model_module": "@jupyter-widgets/base",
            "top": null,
            "grid_column": null,
            "overflow_y": null,
            "overflow_x": null,
            "grid_auto_flow": null,
            "grid_area": null,
            "grid_template_columns": null,
            "flex": null,
            "_model_name": "LayoutModel",
            "justify_items": null,
            "grid_row": null,
            "max_height": null,
            "align_content": null,
            "visibility": "hidden",
            "align_self": null,
            "height": null,
            "min_height": null,
            "padding": null,
            "grid_auto_rows": null,
            "grid_gap": null,
            "max_width": null,
            "order": null,
            "_view_module_version": "1.2.0",
            "grid_template_areas": null,
            "object_position": null,
            "object_fit": null,
            "grid_auto_columns": null,
            "margin": null,
            "display": null,
            "left": null
          }
        },
        "b826d09e7b994a849d2bd16e7196dc11": {
          "model_module": "@jupyter-widgets/controls",
          "model_name": "GridBoxModel",
          "model_module_version": "1.5.0",
          "state": {
            "_view_name": "GridBoxView",
            "_dom_classes": [],
            "_model_name": "GridBoxModel",
            "_view_module": "@jupyter-widgets/controls",
            "_model_module_version": "1.5.0",
            "_view_count": null,
            "_view_module_version": "1.5.0",
            "box_style": "",
            "layout": "IPY_MODEL_19777bc43a0a4bc4843c7290903b900f",
            "_model_module": "@jupyter-widgets/controls",
            "children": [
              "IPY_MODEL_bffcedbcd2794a0a828e7235f769404d",
              "IPY_MODEL_45a730255c6b4167b1459f2a9b9476d8",
              "IPY_MODEL_278bbe7a7a22484f89c6b5d93bb7fb9e",
              "IPY_MODEL_02f70ef7988f47c68200a5ca5cb76da0",
              "IPY_MODEL_cc7fef528cb7488b97e8f61dd95f88fd",
              "IPY_MODEL_7992a1af4bcb422d9b532611119a075d",
              "IPY_MODEL_1d0c4a0a25a24d1faeb1d889ba86af54",
              "IPY_MODEL_442baa2724fd448d89fcaf7cf10232bc"
            ]
          }
        },
        "19777bc43a0a4bc4843c7290903b900f": {
          "model_module": "@jupyter-widgets/base",
          "model_name": "LayoutModel",
          "model_module_version": "1.2.0",
          "state": {
            "_view_name": "LayoutView",
            "grid_template_rows": null,
            "right": null,
            "justify_content": null,
            "_view_module": "@jupyter-widgets/base",
            "overflow": null,
            "_model_module_version": "1.2.0",
            "_view_count": null,
            "flex_flow": null,
            "width": null,
            "min_width": null,
            "border": null,
            "align_items": null,
            "bottom": null,
            "_model_module": "@jupyter-widgets/base",
            "top": null,
            "grid_column": null,
            "overflow_y": null,
            "overflow_x": null,
            "grid_auto_flow": null,
            "grid_area": null,
            "grid_template_columns": "repeat(4, 25%)",
            "flex": null,
            "_model_name": "LayoutModel",
            "justify_items": null,
            "grid_row": null,
            "max_height": null,
            "align_content": null,
            "visibility": "visible",
            "align_self": null,
            "height": null,
            "min_height": null,
            "padding": null,
            "grid_auto_rows": null,
            "grid_gap": null,
            "max_width": null,
            "order": null,
            "_view_module_version": "1.2.0",
            "grid_template_areas": null,
            "object_position": null,
            "object_fit": null,
            "grid_auto_columns": null,
            "margin": "15px",
            "display": null,
            "left": null
          }
        },
        "bffcedbcd2794a0a828e7235f769404d": {
          "model_module": "@jupyter-widgets/controls",
          "model_name": "VBoxModel",
          "model_module_version": "1.5.0",
          "state": {
            "_view_name": "VBoxView",
            "_dom_classes": [],
            "_model_name": "VBoxModel",
            "_view_module": "@jupyter-widgets/controls",
            "_model_module_version": "1.5.0",
            "_view_count": null,
            "_view_module_version": "1.5.0",
            "box_style": "",
            "layout": "IPY_MODEL_11e732809fe34c24adf1b322a0fa8a98",
            "_model_module": "@jupyter-widgets/controls",
            "children": [
              "IPY_MODEL_0dcb63d11dae48a88e58c2b956c933c6",
              "IPY_MODEL_d929be3641fe438eb95a44a7dd6823e8"
            ]
          }
        },
        "45a730255c6b4167b1459f2a9b9476d8": {
          "model_module": "@jupyter-widgets/controls",
          "model_name": "VBoxModel",
          "model_module_version": "1.5.0",
          "state": {
            "_view_name": "VBoxView",
            "_dom_classes": [],
            "_model_name": "VBoxModel",
            "_view_module": "@jupyter-widgets/controls",
            "_model_module_version": "1.5.0",
            "_view_count": null,
            "_view_module_version": "1.5.0",
            "box_style": "",
            "layout": "IPY_MODEL_58ecf61f7fe645f692aa754e24f49700",
            "_model_module": "@jupyter-widgets/controls",
            "children": [
              "IPY_MODEL_bd6884cc0849423087ac744cb9a226f3",
              "IPY_MODEL_d217e15af2aa441a9f5bde3d41d415ab"
            ]
          }
        },
        "278bbe7a7a22484f89c6b5d93bb7fb9e": {
          "model_module": "@jupyter-widgets/controls",
          "model_name": "VBoxModel",
          "model_module_version": "1.5.0",
          "state": {
            "_view_name": "VBoxView",
            "_dom_classes": [],
            "_model_name": "VBoxModel",
            "_view_module": "@jupyter-widgets/controls",
            "_model_module_version": "1.5.0",
            "_view_count": null,
            "_view_module_version": "1.5.0",
            "box_style": "",
            "layout": "IPY_MODEL_5c2d803ffa2c45ec940ded1386bacb85",
            "_model_module": "@jupyter-widgets/controls",
            "children": [
              "IPY_MODEL_b61b0a2a565d44ed8d3c01f05ece6e6d",
              "IPY_MODEL_f7ee215583cf4202a19c1021b6164db6"
            ]
          }
        },
        "02f70ef7988f47c68200a5ca5cb76da0": {
          "model_module": "@jupyter-widgets/controls",
          "model_name": "VBoxModel",
          "model_module_version": "1.5.0",
          "state": {
            "_view_name": "VBoxView",
            "_dom_classes": [],
            "_model_name": "VBoxModel",
            "_view_module": "@jupyter-widgets/controls",
            "_model_module_version": "1.5.0",
            "_view_count": null,
            "_view_module_version": "1.5.0",
            "box_style": "",
            "layout": "IPY_MODEL_19b1b6cc094c4272a2d369222eec6901",
            "_model_module": "@jupyter-widgets/controls",
            "children": [
              "IPY_MODEL_176f8bbd7d784e7b93c5c9179b47a629",
              "IPY_MODEL_bc96d8cefbe04903b721d22ac903ddd7"
            ]
          }
        },
        "cc7fef528cb7488b97e8f61dd95f88fd": {
          "model_module": "@jupyter-widgets/controls",
          "model_name": "VBoxModel",
          "model_module_version": "1.5.0",
          "state": {
            "_view_name": "VBoxView",
            "_dom_classes": [],
            "_model_name": "VBoxModel",
            "_view_module": "@jupyter-widgets/controls",
            "_model_module_version": "1.5.0",
            "_view_count": null,
            "_view_module_version": "1.5.0",
            "box_style": "",
            "layout": "IPY_MODEL_544a3d457cbc44e6bf90a440e519084c",
            "_model_module": "@jupyter-widgets/controls",
            "children": [
              "IPY_MODEL_9a1b66552c8745b0bcee133c4f944467",
              "IPY_MODEL_48b416a3579949539769d9b1aad6c629"
            ]
          }
        },
        "7992a1af4bcb422d9b532611119a075d": {
          "model_module": "@jupyter-widgets/controls",
          "model_name": "VBoxModel",
          "model_module_version": "1.5.0",
          "state": {
            "_view_name": "VBoxView",
            "_dom_classes": [],
            "_model_name": "VBoxModel",
            "_view_module": "@jupyter-widgets/controls",
            "_model_module_version": "1.5.0",
            "_view_count": null,
            "_view_module_version": "1.5.0",
            "box_style": "",
            "layout": "IPY_MODEL_44d7536ef2444b29b4d8e978a15ae234",
            "_model_module": "@jupyter-widgets/controls",
            "children": [
              "IPY_MODEL_df77b3329b664bfe9b8ae8332da4682c",
              "IPY_MODEL_398876b7551c45068aade6b94e1a430c"
            ]
          }
        },
        "1d0c4a0a25a24d1faeb1d889ba86af54": {
          "model_module": "@jupyter-widgets/controls",
          "model_name": "VBoxModel",
          "model_module_version": "1.5.0",
          "state": {
            "_view_name": "VBoxView",
            "_dom_classes": [],
            "_model_name": "VBoxModel",
            "_view_module": "@jupyter-widgets/controls",
            "_model_module_version": "1.5.0",
            "_view_count": null,
            "_view_module_version": "1.5.0",
            "box_style": "",
            "layout": "IPY_MODEL_9637e72f452e477ea644517712664b07",
            "_model_module": "@jupyter-widgets/controls",
            "children": [
              "IPY_MODEL_28123430011944c4924aa3c3698fb286",
              "IPY_MODEL_a519ec81056444b9bc33d923713347a0"
            ]
          }
        },
        "442baa2724fd448d89fcaf7cf10232bc": {
          "model_module": "@jupyter-widgets/controls",
          "model_name": "VBoxModel",
          "model_module_version": "1.5.0",
          "state": {
            "_view_name": "VBoxView",
            "_dom_classes": [],
            "_model_name": "VBoxModel",
            "_view_module": "@jupyter-widgets/controls",
            "_model_module_version": "1.5.0",
            "_view_count": null,
            "_view_module_version": "1.5.0",
            "box_style": "",
            "layout": "IPY_MODEL_f3e8287b4b4c45e5973e5d9eca7b95e9",
            "_model_module": "@jupyter-widgets/controls",
            "children": [
              "IPY_MODEL_63ed2ee276de4a09b5795611dc58335b",
              "IPY_MODEL_89727e820c7a41d39d311257cc42660c"
            ]
          }
        },
        "11e732809fe34c24adf1b322a0fa8a98": {
          "model_module": "@jupyter-widgets/base",
          "model_name": "LayoutModel",
          "model_module_version": "1.2.0",
          "state": {
            "_view_name": "LayoutView",
            "grid_template_rows": null,
            "right": null,
            "justify_content": null,
            "_view_module": "@jupyter-widgets/base",
            "overflow": null,
            "_model_module_version": "1.2.0",
            "_view_count": null,
            "flex_flow": null,
            "width": null,
            "min_width": null,
            "border": null,
            "align_items": null,
            "bottom": null,
            "_model_module": "@jupyter-widgets/base",
            "top": null,
            "grid_column": null,
            "overflow_y": null,
            "overflow_x": null,
            "grid_auto_flow": null,
            "grid_area": null,
            "grid_template_columns": null,
            "flex": null,
            "_model_name": "LayoutModel",
            "justify_items": null,
            "grid_row": null,
            "max_height": null,
            "align_content": null,
            "visibility": "visible",
            "align_self": null,
            "height": null,
            "min_height": null,
            "padding": null,
            "grid_auto_rows": null,
            "grid_gap": null,
            "max_width": null,
            "order": null,
            "_view_module_version": "1.2.0",
            "grid_template_areas": null,
            "object_position": null,
            "object_fit": null,
            "grid_auto_columns": null,
            "margin": "5px",
            "display": null,
            "left": null
          }
        },
        "0dcb63d11dae48a88e58c2b956c933c6": {
          "model_module": "@jupyter-widgets/controls",
          "model_name": "ImageModel",
          "model_module_version": "1.5.0",
          "state": {
            "_view_name": "ImageView",
            "_dom_classes": [],
            "_model_name": "ImageModel",
            "format": "png",
            "_view_module": "@jupyter-widgets/controls",
            "_model_module_version": "1.5.0",
            "_view_count": null,
            "width": "",
            "_view_module_version": "1.5.0",
            "layout": "IPY_MODEL_fecd3ee3139d47929cedb0ba22842755",
            "height": "",
            "_model_module": "@jupyter-widgets/controls"
          }
        },
        "d929be3641fe438eb95a44a7dd6823e8": {
          "model_module": "@jupyter-widgets/controls",
          "model_name": "ButtonModel",
          "model_module_version": "1.5.0",
          "state": {
            "_view_name": "ButtonView",
            "style": "IPY_MODEL_1b376857a92f4a60ae1491d4d833617b",
            "_dom_classes": [],
            "description": "Delete",
            "_model_name": "ButtonModel",
            "button_style": "",
            "_view_module": "@jupyter-widgets/controls",
            "_model_module_version": "1.5.0",
            "tooltip": "",
            "_view_count": null,
            "disabled": false,
            "_view_module_version": "1.5.0",
            "layout": "IPY_MODEL_e6ed9691d79846e488ca202cba505aef",
            "_model_module": "@jupyter-widgets/controls",
            "icon": ""
          }
        },
        "58ecf61f7fe645f692aa754e24f49700": {
          "model_module": "@jupyter-widgets/base",
          "model_name": "LayoutModel",
          "model_module_version": "1.2.0",
          "state": {
            "_view_name": "LayoutView",
            "grid_template_rows": null,
            "right": null,
            "justify_content": null,
            "_view_module": "@jupyter-widgets/base",
            "overflow": null,
            "_model_module_version": "1.2.0",
            "_view_count": null,
            "flex_flow": null,
            "width": null,
            "min_width": null,
            "border": null,
            "align_items": null,
            "bottom": null,
            "_model_module": "@jupyter-widgets/base",
            "top": null,
            "grid_column": null,
            "overflow_y": null,
            "overflow_x": null,
            "grid_auto_flow": null,
            "grid_area": null,
            "grid_template_columns": null,
            "flex": null,
            "_model_name": "LayoutModel",
            "justify_items": null,
            "grid_row": null,
            "max_height": null,
            "align_content": null,
            "visibility": "visible",
            "align_self": null,
            "height": null,
            "min_height": null,
            "padding": null,
            "grid_auto_rows": null,
            "grid_gap": null,
            "max_width": null,
            "order": null,
            "_view_module_version": "1.2.0",
            "grid_template_areas": null,
            "object_position": null,
            "object_fit": null,
            "grid_auto_columns": null,
            "margin": "5px",
            "display": null,
            "left": null
          }
        },
        "bd6884cc0849423087ac744cb9a226f3": {
          "model_module": "@jupyter-widgets/controls",
          "model_name": "ImageModel",
          "model_module_version": "1.5.0",
          "state": {
            "_view_name": "ImageView",
            "_dom_classes": [],
            "_model_name": "ImageModel",
            "format": "png",
            "_view_module": "@jupyter-widgets/controls",
            "_model_module_version": "1.5.0",
            "_view_count": null,
            "width": "",
            "_view_module_version": "1.5.0",
            "layout": "IPY_MODEL_079e67c157114568bd3de010ecba1af1",
            "height": "",
            "_model_module": "@jupyter-widgets/controls"
          }
        },
        "d217e15af2aa441a9f5bde3d41d415ab": {
          "model_module": "@jupyter-widgets/controls",
          "model_name": "ButtonModel",
          "model_module_version": "1.5.0",
          "state": {
            "_view_name": "ButtonView",
            "style": "IPY_MODEL_a0c241b9d3094a92a9580455599adfab",
            "_dom_classes": [],
            "description": "Delete",
            "_model_name": "ButtonModel",
            "button_style": "",
            "_view_module": "@jupyter-widgets/controls",
            "_model_module_version": "1.5.0",
            "tooltip": "",
            "_view_count": null,
            "disabled": false,
            "_view_module_version": "1.5.0",
            "layout": "IPY_MODEL_41ba03f07a634cddb54a8f112a9c9219",
            "_model_module": "@jupyter-widgets/controls",
            "icon": ""
          }
        },
        "5c2d803ffa2c45ec940ded1386bacb85": {
          "model_module": "@jupyter-widgets/base",
          "model_name": "LayoutModel",
          "model_module_version": "1.2.0",
          "state": {
            "_view_name": "LayoutView",
            "grid_template_rows": null,
            "right": null,
            "justify_content": null,
            "_view_module": "@jupyter-widgets/base",
            "overflow": null,
            "_model_module_version": "1.2.0",
            "_view_count": null,
            "flex_flow": null,
            "width": null,
            "min_width": null,
            "border": null,
            "align_items": null,
            "bottom": null,
            "_model_module": "@jupyter-widgets/base",
            "top": null,
            "grid_column": null,
            "overflow_y": null,
            "overflow_x": null,
            "grid_auto_flow": null,
            "grid_area": null,
            "grid_template_columns": null,
            "flex": null,
            "_model_name": "LayoutModel",
            "justify_items": null,
            "grid_row": null,
            "max_height": null,
            "align_content": null,
            "visibility": "visible",
            "align_self": null,
            "height": null,
            "min_height": null,
            "padding": null,
            "grid_auto_rows": null,
            "grid_gap": null,
            "max_width": null,
            "order": null,
            "_view_module_version": "1.2.0",
            "grid_template_areas": null,
            "object_position": null,
            "object_fit": null,
            "grid_auto_columns": null,
            "margin": "5px",
            "display": null,
            "left": null
          }
        },
        "b61b0a2a565d44ed8d3c01f05ece6e6d": {
          "model_module": "@jupyter-widgets/controls",
          "model_name": "ImageModel",
          "model_module_version": "1.5.0",
          "state": {
            "_view_name": "ImageView",
            "_dom_classes": [],
            "_model_name": "ImageModel",
            "format": "png",
            "_view_module": "@jupyter-widgets/controls",
            "_model_module_version": "1.5.0",
            "_view_count": null,
            "width": "",
            "_view_module_version": "1.5.0",
            "layout": "IPY_MODEL_f83cc5c311f44f458e4dc1c9de911ef0",
            "height": "",
            "_model_module": "@jupyter-widgets/controls"
          }
        },
        "f7ee215583cf4202a19c1021b6164db6": {
          "model_module": "@jupyter-widgets/controls",
          "model_name": "ButtonModel",
          "model_module_version": "1.5.0",
          "state": {
            "_view_name": "ButtonView",
            "style": "IPY_MODEL_ef6fc6479b4a48dca7d1ed0929ffa91e",
            "_dom_classes": [],
            "description": "Delete",
            "_model_name": "ButtonModel",
            "button_style": "",
            "_view_module": "@jupyter-widgets/controls",
            "_model_module_version": "1.5.0",
            "tooltip": "",
            "_view_count": null,
            "disabled": false,
            "_view_module_version": "1.5.0",
            "layout": "IPY_MODEL_41c26555d0324280bdd0df5f9083a849",
            "_model_module": "@jupyter-widgets/controls",
            "icon": ""
          }
        },
        "19b1b6cc094c4272a2d369222eec6901": {
          "model_module": "@jupyter-widgets/base",
          "model_name": "LayoutModel",
          "model_module_version": "1.2.0",
          "state": {
            "_view_name": "LayoutView",
            "grid_template_rows": null,
            "right": null,
            "justify_content": null,
            "_view_module": "@jupyter-widgets/base",
            "overflow": null,
            "_model_module_version": "1.2.0",
            "_view_count": null,
            "flex_flow": null,
            "width": null,
            "min_width": null,
            "border": null,
            "align_items": null,
            "bottom": null,
            "_model_module": "@jupyter-widgets/base",
            "top": null,
            "grid_column": null,
            "overflow_y": null,
            "overflow_x": null,
            "grid_auto_flow": null,
            "grid_area": null,
            "grid_template_columns": null,
            "flex": null,
            "_model_name": "LayoutModel",
            "justify_items": null,
            "grid_row": null,
            "max_height": null,
            "align_content": null,
            "visibility": "visible",
            "align_self": null,
            "height": null,
            "min_height": null,
            "padding": null,
            "grid_auto_rows": null,
            "grid_gap": null,
            "max_width": null,
            "order": null,
            "_view_module_version": "1.2.0",
            "grid_template_areas": null,
            "object_position": null,
            "object_fit": null,
            "grid_auto_columns": null,
            "margin": "5px",
            "display": null,
            "left": null
          }
        },
        "176f8bbd7d784e7b93c5c9179b47a629": {
          "model_module": "@jupyter-widgets/controls",
          "model_name": "ImageModel",
          "model_module_version": "1.5.0",
          "state": {
            "_view_name": "ImageView",
            "_dom_classes": [],
            "_model_name": "ImageModel",
            "format": "png",
            "_view_module": "@jupyter-widgets/controls",
            "_model_module_version": "1.5.0",
            "_view_count": null,
            "width": "",
            "_view_module_version": "1.5.0",
            "layout": "IPY_MODEL_9bd136eb94634936ad55585f90e720a5",
            "height": "",
            "_model_module": "@jupyter-widgets/controls"
          }
        },
        "bc96d8cefbe04903b721d22ac903ddd7": {
          "model_module": "@jupyter-widgets/controls",
          "model_name": "ButtonModel",
          "model_module_version": "1.5.0",
          "state": {
            "_view_name": "ButtonView",
            "style": "IPY_MODEL_e25db34308e34313b0bfe8d6ee98d7eb",
            "_dom_classes": [],
            "description": "Delete",
            "_model_name": "ButtonModel",
            "button_style": "",
            "_view_module": "@jupyter-widgets/controls",
            "_model_module_version": "1.5.0",
            "tooltip": "",
            "_view_count": null,
            "disabled": false,
            "_view_module_version": "1.5.0",
            "layout": "IPY_MODEL_dabe77de6589434e9c07cdeb4e4a10da",
            "_model_module": "@jupyter-widgets/controls",
            "icon": ""
          }
        },
        "544a3d457cbc44e6bf90a440e519084c": {
          "model_module": "@jupyter-widgets/base",
          "model_name": "LayoutModel",
          "model_module_version": "1.2.0",
          "state": {
            "_view_name": "LayoutView",
            "grid_template_rows": null,
            "right": null,
            "justify_content": null,
            "_view_module": "@jupyter-widgets/base",
            "overflow": null,
            "_model_module_version": "1.2.0",
            "_view_count": null,
            "flex_flow": null,
            "width": null,
            "min_width": null,
            "border": null,
            "align_items": null,
            "bottom": null,
            "_model_module": "@jupyter-widgets/base",
            "top": null,
            "grid_column": null,
            "overflow_y": null,
            "overflow_x": null,
            "grid_auto_flow": null,
            "grid_area": null,
            "grid_template_columns": null,
            "flex": null,
            "_model_name": "LayoutModel",
            "justify_items": null,
            "grid_row": null,
            "max_height": null,
            "align_content": null,
            "visibility": "visible",
            "align_self": null,
            "height": null,
            "min_height": null,
            "padding": null,
            "grid_auto_rows": null,
            "grid_gap": null,
            "max_width": null,
            "order": null,
            "_view_module_version": "1.2.0",
            "grid_template_areas": null,
            "object_position": null,
            "object_fit": null,
            "grid_auto_columns": null,
            "margin": "5px",
            "display": null,
            "left": null
          }
        },
        "9a1b66552c8745b0bcee133c4f944467": {
          "model_module": "@jupyter-widgets/controls",
          "model_name": "ImageModel",
          "model_module_version": "1.5.0",
          "state": {
            "_view_name": "ImageView",
            "_dom_classes": [],
            "_model_name": "ImageModel",
            "format": "png",
            "_view_module": "@jupyter-widgets/controls",
            "_model_module_version": "1.5.0",
            "_view_count": null,
            "width": "",
            "_view_module_version": "1.5.0",
            "layout": "IPY_MODEL_141749288c9d4c28ab01967ec499a29d",
            "height": "",
            "_model_module": "@jupyter-widgets/controls"
          }
        },
        "48b416a3579949539769d9b1aad6c629": {
          "model_module": "@jupyter-widgets/controls",
          "model_name": "ButtonModel",
          "model_module_version": "1.5.0",
          "state": {
            "_view_name": "ButtonView",
            "style": "IPY_MODEL_f67dd6d75fd049fbbb5ecfc919b59204",
            "_dom_classes": [],
            "description": "Delete",
            "_model_name": "ButtonModel",
            "button_style": "",
            "_view_module": "@jupyter-widgets/controls",
            "_model_module_version": "1.5.0",
            "tooltip": "",
            "_view_count": null,
            "disabled": false,
            "_view_module_version": "1.5.0",
            "layout": "IPY_MODEL_af31e6af0bea418ea7209c61bd4c2eed",
            "_model_module": "@jupyter-widgets/controls",
            "icon": ""
          }
        },
        "44d7536ef2444b29b4d8e978a15ae234": {
          "model_module": "@jupyter-widgets/base",
          "model_name": "LayoutModel",
          "model_module_version": "1.2.0",
          "state": {
            "_view_name": "LayoutView",
            "grid_template_rows": null,
            "right": null,
            "justify_content": null,
            "_view_module": "@jupyter-widgets/base",
            "overflow": null,
            "_model_module_version": "1.2.0",
            "_view_count": null,
            "flex_flow": null,
            "width": null,
            "min_width": null,
            "border": null,
            "align_items": null,
            "bottom": null,
            "_model_module": "@jupyter-widgets/base",
            "top": null,
            "grid_column": null,
            "overflow_y": null,
            "overflow_x": null,
            "grid_auto_flow": null,
            "grid_area": null,
            "grid_template_columns": null,
            "flex": null,
            "_model_name": "LayoutModel",
            "justify_items": null,
            "grid_row": null,
            "max_height": null,
            "align_content": null,
            "visibility": "visible",
            "align_self": null,
            "height": null,
            "min_height": null,
            "padding": null,
            "grid_auto_rows": null,
            "grid_gap": null,
            "max_width": null,
            "order": null,
            "_view_module_version": "1.2.0",
            "grid_template_areas": null,
            "object_position": null,
            "object_fit": null,
            "grid_auto_columns": null,
            "margin": "5px",
            "display": null,
            "left": null
          }
        },
        "df77b3329b664bfe9b8ae8332da4682c": {
          "model_module": "@jupyter-widgets/controls",
          "model_name": "ImageModel",
          "model_module_version": "1.5.0",
          "state": {
            "_view_name": "ImageView",
            "_dom_classes": [],
            "_model_name": "ImageModel",
            "format": "png",
            "_view_module": "@jupyter-widgets/controls",
            "_model_module_version": "1.5.0",
            "_view_count": null,
            "width": "",
            "_view_module_version": "1.5.0",
            "layout": "IPY_MODEL_9d7b542fd773437cb663a5c0472c77fe",
            "height": "",
            "_model_module": "@jupyter-widgets/controls"
          }
        },
        "398876b7551c45068aade6b94e1a430c": {
          "model_module": "@jupyter-widgets/controls",
          "model_name": "ButtonModel",
          "model_module_version": "1.5.0",
          "state": {
            "_view_name": "ButtonView",
            "style": "IPY_MODEL_2b6602217f0d42b993da89ea29526330",
            "_dom_classes": [],
            "description": "Delete",
            "_model_name": "ButtonModel",
            "button_style": "",
            "_view_module": "@jupyter-widgets/controls",
            "_model_module_version": "1.5.0",
            "tooltip": "",
            "_view_count": null,
            "disabled": false,
            "_view_module_version": "1.5.0",
            "layout": "IPY_MODEL_af544fbfb98946639214e72f53d7e1e4",
            "_model_module": "@jupyter-widgets/controls",
            "icon": ""
          }
        },
        "9637e72f452e477ea644517712664b07": {
          "model_module": "@jupyter-widgets/base",
          "model_name": "LayoutModel",
          "model_module_version": "1.2.0",
          "state": {
            "_view_name": "LayoutView",
            "grid_template_rows": null,
            "right": null,
            "justify_content": null,
            "_view_module": "@jupyter-widgets/base",
            "overflow": null,
            "_model_module_version": "1.2.0",
            "_view_count": null,
            "flex_flow": null,
            "width": null,
            "min_width": null,
            "border": null,
            "align_items": null,
            "bottom": null,
            "_model_module": "@jupyter-widgets/base",
            "top": null,
            "grid_column": null,
            "overflow_y": null,
            "overflow_x": null,
            "grid_auto_flow": null,
            "grid_area": null,
            "grid_template_columns": null,
            "flex": null,
            "_model_name": "LayoutModel",
            "justify_items": null,
            "grid_row": null,
            "max_height": null,
            "align_content": null,
            "visibility": "visible",
            "align_self": null,
            "height": null,
            "min_height": null,
            "padding": null,
            "grid_auto_rows": null,
            "grid_gap": null,
            "max_width": null,
            "order": null,
            "_view_module_version": "1.2.0",
            "grid_template_areas": null,
            "object_position": null,
            "object_fit": null,
            "grid_auto_columns": null,
            "margin": "5px",
            "display": null,
            "left": null
          }
        },
        "28123430011944c4924aa3c3698fb286": {
          "model_module": "@jupyter-widgets/controls",
          "model_name": "ImageModel",
          "model_module_version": "1.5.0",
          "state": {
            "_view_name": "ImageView",
            "_dom_classes": [],
            "_model_name": "ImageModel",
            "format": "png",
            "_view_module": "@jupyter-widgets/controls",
            "_model_module_version": "1.5.0",
            "_view_count": null,
            "width": "",
            "_view_module_version": "1.5.0",
            "layout": "IPY_MODEL_f95cd3a12b3e434f8e87515c9a811d50",
            "height": "",
            "_model_module": "@jupyter-widgets/controls"
          }
        },
        "a519ec81056444b9bc33d923713347a0": {
          "model_module": "@jupyter-widgets/controls",
          "model_name": "ButtonModel",
          "model_module_version": "1.5.0",
          "state": {
            "_view_name": "ButtonView",
            "style": "IPY_MODEL_832d0370b9a44824a21ab228564e8de4",
            "_dom_classes": [],
            "description": "Delete",
            "_model_name": "ButtonModel",
            "button_style": "",
            "_view_module": "@jupyter-widgets/controls",
            "_model_module_version": "1.5.0",
            "tooltip": "",
            "_view_count": null,
            "disabled": false,
            "_view_module_version": "1.5.0",
            "layout": "IPY_MODEL_e55348c96fc04afb8ba09229cb4ab4d3",
            "_model_module": "@jupyter-widgets/controls",
            "icon": ""
          }
        },
        "f3e8287b4b4c45e5973e5d9eca7b95e9": {
          "model_module": "@jupyter-widgets/base",
          "model_name": "LayoutModel",
          "model_module_version": "1.2.0",
          "state": {
            "_view_name": "LayoutView",
            "grid_template_rows": null,
            "right": null,
            "justify_content": null,
            "_view_module": "@jupyter-widgets/base",
            "overflow": null,
            "_model_module_version": "1.2.0",
            "_view_count": null,
            "flex_flow": null,
            "width": null,
            "min_width": null,
            "border": null,
            "align_items": null,
            "bottom": null,
            "_model_module": "@jupyter-widgets/base",
            "top": null,
            "grid_column": null,
            "overflow_y": null,
            "overflow_x": null,
            "grid_auto_flow": null,
            "grid_area": null,
            "grid_template_columns": null,
            "flex": null,
            "_model_name": "LayoutModel",
            "justify_items": null,
            "grid_row": null,
            "max_height": null,
            "align_content": null,
            "visibility": "visible",
            "align_self": null,
            "height": null,
            "min_height": null,
            "padding": null,
            "grid_auto_rows": null,
            "grid_gap": null,
            "max_width": null,
            "order": null,
            "_view_module_version": "1.2.0",
            "grid_template_areas": null,
            "object_position": null,
            "object_fit": null,
            "grid_auto_columns": null,
            "margin": "5px",
            "display": null,
            "left": null
          }
        },
        "63ed2ee276de4a09b5795611dc58335b": {
          "model_module": "@jupyter-widgets/controls",
          "model_name": "ImageModel",
          "model_module_version": "1.5.0",
          "state": {
            "_view_name": "ImageView",
            "_dom_classes": [],
            "_model_name": "ImageModel",
            "format": "png",
            "_view_module": "@jupyter-widgets/controls",
            "_model_module_version": "1.5.0",
            "_view_count": null,
            "width": "",
            "_view_module_version": "1.5.0",
            "layout": "IPY_MODEL_de9185d10a1a483c8b28e1ebb787dc66",
            "height": "",
            "_model_module": "@jupyter-widgets/controls"
          }
        },
        "89727e820c7a41d39d311257cc42660c": {
          "model_module": "@jupyter-widgets/controls",
          "model_name": "ButtonModel",
          "model_module_version": "1.5.0",
          "state": {
            "_view_name": "ButtonView",
            "style": "IPY_MODEL_659004cccf154f819689ffd233a10ed5",
            "_dom_classes": [],
            "description": "Delete",
            "_model_name": "ButtonModel",
            "button_style": "",
            "_view_module": "@jupyter-widgets/controls",
            "_model_module_version": "1.5.0",
            "tooltip": "",
            "_view_count": null,
            "disabled": false,
            "_view_module_version": "1.5.0",
            "layout": "IPY_MODEL_be43532a326e467099c241a0ea30dc83",
            "_model_module": "@jupyter-widgets/controls",
            "icon": ""
          }
        },
        "fecd3ee3139d47929cedb0ba22842755": {
          "model_module": "@jupyter-widgets/base",
          "model_name": "LayoutModel",
          "model_module_version": "1.2.0",
          "state": {
            "_view_name": "LayoutView",
            "grid_template_rows": null,
            "right": null,
            "justify_content": null,
            "_view_module": "@jupyter-widgets/base",
            "overflow": null,
            "_model_module_version": "1.2.0",
            "_view_count": null,
            "flex_flow": null,
            "width": "150px",
            "min_width": null,
            "border": null,
            "align_items": null,
            "bottom": null,
            "_model_module": "@jupyter-widgets/base",
            "top": null,
            "grid_column": null,
            "overflow_y": null,
            "overflow_x": null,
            "grid_auto_flow": null,
            "grid_area": null,
            "grid_template_columns": null,
            "flex": null,
            "_model_name": "LayoutModel",
            "justify_items": null,
            "grid_row": null,
            "max_height": null,
            "align_content": null,
            "visibility": null,
            "align_self": null,
            "height": null,
            "min_height": null,
            "padding": null,
            "grid_auto_rows": null,
            "grid_gap": null,
            "max_width": null,
            "order": null,
            "_view_module_version": "1.2.0",
            "grid_template_areas": null,
            "object_position": null,
            "object_fit": null,
            "grid_auto_columns": null,
            "margin": null,
            "display": null,
            "left": null
          }
        },
        "1b376857a92f4a60ae1491d4d833617b": {
          "model_module": "@jupyter-widgets/controls",
          "model_name": "ButtonStyleModel",
          "model_module_version": "1.5.0",
          "state": {
            "_view_name": "StyleView",
            "_model_name": "ButtonStyleModel",
            "_view_module": "@jupyter-widgets/base",
            "_model_module_version": "1.5.0",
            "_view_count": null,
            "button_color": null,
            "font_weight": "",
            "_view_module_version": "1.2.0",
            "_model_module": "@jupyter-widgets/controls"
          }
        },
        "e6ed9691d79846e488ca202cba505aef": {
          "model_module": "@jupyter-widgets/base",
          "model_name": "LayoutModel",
          "model_module_version": "1.2.0",
          "state": {
            "_view_name": "LayoutView",
            "grid_template_rows": null,
            "right": null,
            "justify_content": null,
            "_view_module": "@jupyter-widgets/base",
            "overflow": null,
            "_model_module_version": "1.2.0",
            "_view_count": null,
            "flex_flow": null,
            "width": null,
            "min_width": null,
            "border": null,
            "align_items": null,
            "bottom": null,
            "_model_module": "@jupyter-widgets/base",
            "top": null,
            "grid_column": null,
            "overflow_y": null,
            "overflow_x": null,
            "grid_auto_flow": null,
            "grid_area": null,
            "grid_template_columns": null,
            "flex": null,
            "_model_name": "LayoutModel",
            "justify_items": null,
            "grid_row": null,
            "max_height": null,
            "align_content": null,
            "visibility": null,
            "align_self": null,
            "height": null,
            "min_height": null,
            "padding": null,
            "grid_auto_rows": null,
            "grid_gap": null,
            "max_width": null,
            "order": null,
            "_view_module_version": "1.2.0",
            "grid_template_areas": null,
            "object_position": null,
            "object_fit": null,
            "grid_auto_columns": null,
            "margin": null,
            "display": null,
            "left": null
          }
        },
        "079e67c157114568bd3de010ecba1af1": {
          "model_module": "@jupyter-widgets/base",
          "model_name": "LayoutModel",
          "model_module_version": "1.2.0",
          "state": {
            "_view_name": "LayoutView",
            "grid_template_rows": null,
            "right": null,
            "justify_content": null,
            "_view_module": "@jupyter-widgets/base",
            "overflow": null,
            "_model_module_version": "1.2.0",
            "_view_count": null,
            "flex_flow": null,
            "width": "150px",
            "min_width": null,
            "border": null,
            "align_items": null,
            "bottom": null,
            "_model_module": "@jupyter-widgets/base",
            "top": null,
            "grid_column": null,
            "overflow_y": null,
            "overflow_x": null,
            "grid_auto_flow": null,
            "grid_area": null,
            "grid_template_columns": null,
            "flex": null,
            "_model_name": "LayoutModel",
            "justify_items": null,
            "grid_row": null,
            "max_height": null,
            "align_content": null,
            "visibility": null,
            "align_self": null,
            "height": null,
            "min_height": null,
            "padding": null,
            "grid_auto_rows": null,
            "grid_gap": null,
            "max_width": null,
            "order": null,
            "_view_module_version": "1.2.0",
            "grid_template_areas": null,
            "object_position": null,
            "object_fit": null,
            "grid_auto_columns": null,
            "margin": null,
            "display": null,
            "left": null
          }
        },
        "a0c241b9d3094a92a9580455599adfab": {
          "model_module": "@jupyter-widgets/controls",
          "model_name": "ButtonStyleModel",
          "model_module_version": "1.5.0",
          "state": {
            "_view_name": "StyleView",
            "_model_name": "ButtonStyleModel",
            "_view_module": "@jupyter-widgets/base",
            "_model_module_version": "1.5.0",
            "_view_count": null,
            "button_color": null,
            "font_weight": "",
            "_view_module_version": "1.2.0",
            "_model_module": "@jupyter-widgets/controls"
          }
        },
        "41ba03f07a634cddb54a8f112a9c9219": {
          "model_module": "@jupyter-widgets/base",
          "model_name": "LayoutModel",
          "model_module_version": "1.2.0",
          "state": {
            "_view_name": "LayoutView",
            "grid_template_rows": null,
            "right": null,
            "justify_content": null,
            "_view_module": "@jupyter-widgets/base",
            "overflow": null,
            "_model_module_version": "1.2.0",
            "_view_count": null,
            "flex_flow": null,
            "width": null,
            "min_width": null,
            "border": null,
            "align_items": null,
            "bottom": null,
            "_model_module": "@jupyter-widgets/base",
            "top": null,
            "grid_column": null,
            "overflow_y": null,
            "overflow_x": null,
            "grid_auto_flow": null,
            "grid_area": null,
            "grid_template_columns": null,
            "flex": null,
            "_model_name": "LayoutModel",
            "justify_items": null,
            "grid_row": null,
            "max_height": null,
            "align_content": null,
            "visibility": null,
            "align_self": null,
            "height": null,
            "min_height": null,
            "padding": null,
            "grid_auto_rows": null,
            "grid_gap": null,
            "max_width": null,
            "order": null,
            "_view_module_version": "1.2.0",
            "grid_template_areas": null,
            "object_position": null,
            "object_fit": null,
            "grid_auto_columns": null,
            "margin": null,
            "display": null,
            "left": null
          }
        },
        "f83cc5c311f44f458e4dc1c9de911ef0": {
          "model_module": "@jupyter-widgets/base",
          "model_name": "LayoutModel",
          "model_module_version": "1.2.0",
          "state": {
            "_view_name": "LayoutView",
            "grid_template_rows": null,
            "right": null,
            "justify_content": null,
            "_view_module": "@jupyter-widgets/base",
            "overflow": null,
            "_model_module_version": "1.2.0",
            "_view_count": null,
            "flex_flow": null,
            "width": "150px",
            "min_width": null,
            "border": null,
            "align_items": null,
            "bottom": null,
            "_model_module": "@jupyter-widgets/base",
            "top": null,
            "grid_column": null,
            "overflow_y": null,
            "overflow_x": null,
            "grid_auto_flow": null,
            "grid_area": null,
            "grid_template_columns": null,
            "flex": null,
            "_model_name": "LayoutModel",
            "justify_items": null,
            "grid_row": null,
            "max_height": null,
            "align_content": null,
            "visibility": null,
            "align_self": null,
            "height": null,
            "min_height": null,
            "padding": null,
            "grid_auto_rows": null,
            "grid_gap": null,
            "max_width": null,
            "order": null,
            "_view_module_version": "1.2.0",
            "grid_template_areas": null,
            "object_position": null,
            "object_fit": null,
            "grid_auto_columns": null,
            "margin": null,
            "display": null,
            "left": null
          }
        },
        "ef6fc6479b4a48dca7d1ed0929ffa91e": {
          "model_module": "@jupyter-widgets/controls",
          "model_name": "ButtonStyleModel",
          "model_module_version": "1.5.0",
          "state": {
            "_view_name": "StyleView",
            "_model_name": "ButtonStyleModel",
            "_view_module": "@jupyter-widgets/base",
            "_model_module_version": "1.5.0",
            "_view_count": null,
            "button_color": null,
            "font_weight": "",
            "_view_module_version": "1.2.0",
            "_model_module": "@jupyter-widgets/controls"
          }
        },
        "41c26555d0324280bdd0df5f9083a849": {
          "model_module": "@jupyter-widgets/base",
          "model_name": "LayoutModel",
          "model_module_version": "1.2.0",
          "state": {
            "_view_name": "LayoutView",
            "grid_template_rows": null,
            "right": null,
            "justify_content": null,
            "_view_module": "@jupyter-widgets/base",
            "overflow": null,
            "_model_module_version": "1.2.0",
            "_view_count": null,
            "flex_flow": null,
            "width": null,
            "min_width": null,
            "border": null,
            "align_items": null,
            "bottom": null,
            "_model_module": "@jupyter-widgets/base",
            "top": null,
            "grid_column": null,
            "overflow_y": null,
            "overflow_x": null,
            "grid_auto_flow": null,
            "grid_area": null,
            "grid_template_columns": null,
            "flex": null,
            "_model_name": "LayoutModel",
            "justify_items": null,
            "grid_row": null,
            "max_height": null,
            "align_content": null,
            "visibility": null,
            "align_self": null,
            "height": null,
            "min_height": null,
            "padding": null,
            "grid_auto_rows": null,
            "grid_gap": null,
            "max_width": null,
            "order": null,
            "_view_module_version": "1.2.0",
            "grid_template_areas": null,
            "object_position": null,
            "object_fit": null,
            "grid_auto_columns": null,
            "margin": null,
            "display": null,
            "left": null
          }
        },
        "9bd136eb94634936ad55585f90e720a5": {
          "model_module": "@jupyter-widgets/base",
          "model_name": "LayoutModel",
          "model_module_version": "1.2.0",
          "state": {
            "_view_name": "LayoutView",
            "grid_template_rows": null,
            "right": null,
            "justify_content": null,
            "_view_module": "@jupyter-widgets/base",
            "overflow": null,
            "_model_module_version": "1.2.0",
            "_view_count": null,
            "flex_flow": null,
            "width": "150px",
            "min_width": null,
            "border": null,
            "align_items": null,
            "bottom": null,
            "_model_module": "@jupyter-widgets/base",
            "top": null,
            "grid_column": null,
            "overflow_y": null,
            "overflow_x": null,
            "grid_auto_flow": null,
            "grid_area": null,
            "grid_template_columns": null,
            "flex": null,
            "_model_name": "LayoutModel",
            "justify_items": null,
            "grid_row": null,
            "max_height": null,
            "align_content": null,
            "visibility": null,
            "align_self": null,
            "height": null,
            "min_height": null,
            "padding": null,
            "grid_auto_rows": null,
            "grid_gap": null,
            "max_width": null,
            "order": null,
            "_view_module_version": "1.2.0",
            "grid_template_areas": null,
            "object_position": null,
            "object_fit": null,
            "grid_auto_columns": null,
            "margin": null,
            "display": null,
            "left": null
          }
        },
        "e25db34308e34313b0bfe8d6ee98d7eb": {
          "model_module": "@jupyter-widgets/controls",
          "model_name": "ButtonStyleModel",
          "model_module_version": "1.5.0",
          "state": {
            "_view_name": "StyleView",
            "_model_name": "ButtonStyleModel",
            "_view_module": "@jupyter-widgets/base",
            "_model_module_version": "1.5.0",
            "_view_count": null,
            "button_color": null,
            "font_weight": "",
            "_view_module_version": "1.2.0",
            "_model_module": "@jupyter-widgets/controls"
          }
        },
        "dabe77de6589434e9c07cdeb4e4a10da": {
          "model_module": "@jupyter-widgets/base",
          "model_name": "LayoutModel",
          "model_module_version": "1.2.0",
          "state": {
            "_view_name": "LayoutView",
            "grid_template_rows": null,
            "right": null,
            "justify_content": null,
            "_view_module": "@jupyter-widgets/base",
            "overflow": null,
            "_model_module_version": "1.2.0",
            "_view_count": null,
            "flex_flow": null,
            "width": null,
            "min_width": null,
            "border": null,
            "align_items": null,
            "bottom": null,
            "_model_module": "@jupyter-widgets/base",
            "top": null,
            "grid_column": null,
            "overflow_y": null,
            "overflow_x": null,
            "grid_auto_flow": null,
            "grid_area": null,
            "grid_template_columns": null,
            "flex": null,
            "_model_name": "LayoutModel",
            "justify_items": null,
            "grid_row": null,
            "max_height": null,
            "align_content": null,
            "visibility": null,
            "align_self": null,
            "height": null,
            "min_height": null,
            "padding": null,
            "grid_auto_rows": null,
            "grid_gap": null,
            "max_width": null,
            "order": null,
            "_view_module_version": "1.2.0",
            "grid_template_areas": null,
            "object_position": null,
            "object_fit": null,
            "grid_auto_columns": null,
            "margin": null,
            "display": null,
            "left": null
          }
        },
        "141749288c9d4c28ab01967ec499a29d": {
          "model_module": "@jupyter-widgets/base",
          "model_name": "LayoutModel",
          "model_module_version": "1.2.0",
          "state": {
            "_view_name": "LayoutView",
            "grid_template_rows": null,
            "right": null,
            "justify_content": null,
            "_view_module": "@jupyter-widgets/base",
            "overflow": null,
            "_model_module_version": "1.2.0",
            "_view_count": null,
            "flex_flow": null,
            "width": "150px",
            "min_width": null,
            "border": null,
            "align_items": null,
            "bottom": null,
            "_model_module": "@jupyter-widgets/base",
            "top": null,
            "grid_column": null,
            "overflow_y": null,
            "overflow_x": null,
            "grid_auto_flow": null,
            "grid_area": null,
            "grid_template_columns": null,
            "flex": null,
            "_model_name": "LayoutModel",
            "justify_items": null,
            "grid_row": null,
            "max_height": null,
            "align_content": null,
            "visibility": null,
            "align_self": null,
            "height": null,
            "min_height": null,
            "padding": null,
            "grid_auto_rows": null,
            "grid_gap": null,
            "max_width": null,
            "order": null,
            "_view_module_version": "1.2.0",
            "grid_template_areas": null,
            "object_position": null,
            "object_fit": null,
            "grid_auto_columns": null,
            "margin": null,
            "display": null,
            "left": null
          }
        },
        "f67dd6d75fd049fbbb5ecfc919b59204": {
          "model_module": "@jupyter-widgets/controls",
          "model_name": "ButtonStyleModel",
          "model_module_version": "1.5.0",
          "state": {
            "_view_name": "StyleView",
            "_model_name": "ButtonStyleModel",
            "_view_module": "@jupyter-widgets/base",
            "_model_module_version": "1.5.0",
            "_view_count": null,
            "button_color": null,
            "font_weight": "",
            "_view_module_version": "1.2.0",
            "_model_module": "@jupyter-widgets/controls"
          }
        },
        "af31e6af0bea418ea7209c61bd4c2eed": {
          "model_module": "@jupyter-widgets/base",
          "model_name": "LayoutModel",
          "model_module_version": "1.2.0",
          "state": {
            "_view_name": "LayoutView",
            "grid_template_rows": null,
            "right": null,
            "justify_content": null,
            "_view_module": "@jupyter-widgets/base",
            "overflow": null,
            "_model_module_version": "1.2.0",
            "_view_count": null,
            "flex_flow": null,
            "width": null,
            "min_width": null,
            "border": null,
            "align_items": null,
            "bottom": null,
            "_model_module": "@jupyter-widgets/base",
            "top": null,
            "grid_column": null,
            "overflow_y": null,
            "overflow_x": null,
            "grid_auto_flow": null,
            "grid_area": null,
            "grid_template_columns": null,
            "flex": null,
            "_model_name": "LayoutModel",
            "justify_items": null,
            "grid_row": null,
            "max_height": null,
            "align_content": null,
            "visibility": null,
            "align_self": null,
            "height": null,
            "min_height": null,
            "padding": null,
            "grid_auto_rows": null,
            "grid_gap": null,
            "max_width": null,
            "order": null,
            "_view_module_version": "1.2.0",
            "grid_template_areas": null,
            "object_position": null,
            "object_fit": null,
            "grid_auto_columns": null,
            "margin": null,
            "display": null,
            "left": null
          }
        },
        "9d7b542fd773437cb663a5c0472c77fe": {
          "model_module": "@jupyter-widgets/base",
          "model_name": "LayoutModel",
          "model_module_version": "1.2.0",
          "state": {
            "_view_name": "LayoutView",
            "grid_template_rows": null,
            "right": null,
            "justify_content": null,
            "_view_module": "@jupyter-widgets/base",
            "overflow": null,
            "_model_module_version": "1.2.0",
            "_view_count": null,
            "flex_flow": null,
            "width": "150px",
            "min_width": null,
            "border": null,
            "align_items": null,
            "bottom": null,
            "_model_module": "@jupyter-widgets/base",
            "top": null,
            "grid_column": null,
            "overflow_y": null,
            "overflow_x": null,
            "grid_auto_flow": null,
            "grid_area": null,
            "grid_template_columns": null,
            "flex": null,
            "_model_name": "LayoutModel",
            "justify_items": null,
            "grid_row": null,
            "max_height": null,
            "align_content": null,
            "visibility": null,
            "align_self": null,
            "height": null,
            "min_height": null,
            "padding": null,
            "grid_auto_rows": null,
            "grid_gap": null,
            "max_width": null,
            "order": null,
            "_view_module_version": "1.2.0",
            "grid_template_areas": null,
            "object_position": null,
            "object_fit": null,
            "grid_auto_columns": null,
            "margin": null,
            "display": null,
            "left": null
          }
        },
        "2b6602217f0d42b993da89ea29526330": {
          "model_module": "@jupyter-widgets/controls",
          "model_name": "ButtonStyleModel",
          "model_module_version": "1.5.0",
          "state": {
            "_view_name": "StyleView",
            "_model_name": "ButtonStyleModel",
            "_view_module": "@jupyter-widgets/base",
            "_model_module_version": "1.5.0",
            "_view_count": null,
            "button_color": null,
            "font_weight": "",
            "_view_module_version": "1.2.0",
            "_model_module": "@jupyter-widgets/controls"
          }
        },
        "af544fbfb98946639214e72f53d7e1e4": {
          "model_module": "@jupyter-widgets/base",
          "model_name": "LayoutModel",
          "model_module_version": "1.2.0",
          "state": {
            "_view_name": "LayoutView",
            "grid_template_rows": null,
            "right": null,
            "justify_content": null,
            "_view_module": "@jupyter-widgets/base",
            "overflow": null,
            "_model_module_version": "1.2.0",
            "_view_count": null,
            "flex_flow": null,
            "width": null,
            "min_width": null,
            "border": null,
            "align_items": null,
            "bottom": null,
            "_model_module": "@jupyter-widgets/base",
            "top": null,
            "grid_column": null,
            "overflow_y": null,
            "overflow_x": null,
            "grid_auto_flow": null,
            "grid_area": null,
            "grid_template_columns": null,
            "flex": null,
            "_model_name": "LayoutModel",
            "justify_items": null,
            "grid_row": null,
            "max_height": null,
            "align_content": null,
            "visibility": null,
            "align_self": null,
            "height": null,
            "min_height": null,
            "padding": null,
            "grid_auto_rows": null,
            "grid_gap": null,
            "max_width": null,
            "order": null,
            "_view_module_version": "1.2.0",
            "grid_template_areas": null,
            "object_position": null,
            "object_fit": null,
            "grid_auto_columns": null,
            "margin": null,
            "display": null,
            "left": null
          }
        },
        "f95cd3a12b3e434f8e87515c9a811d50": {
          "model_module": "@jupyter-widgets/base",
          "model_name": "LayoutModel",
          "model_module_version": "1.2.0",
          "state": {
            "_view_name": "LayoutView",
            "grid_template_rows": null,
            "right": null,
            "justify_content": null,
            "_view_module": "@jupyter-widgets/base",
            "overflow": null,
            "_model_module_version": "1.2.0",
            "_view_count": null,
            "flex_flow": null,
            "width": "150px",
            "min_width": null,
            "border": null,
            "align_items": null,
            "bottom": null,
            "_model_module": "@jupyter-widgets/base",
            "top": null,
            "grid_column": null,
            "overflow_y": null,
            "overflow_x": null,
            "grid_auto_flow": null,
            "grid_area": null,
            "grid_template_columns": null,
            "flex": null,
            "_model_name": "LayoutModel",
            "justify_items": null,
            "grid_row": null,
            "max_height": null,
            "align_content": null,
            "visibility": null,
            "align_self": null,
            "height": null,
            "min_height": null,
            "padding": null,
            "grid_auto_rows": null,
            "grid_gap": null,
            "max_width": null,
            "order": null,
            "_view_module_version": "1.2.0",
            "grid_template_areas": null,
            "object_position": null,
            "object_fit": null,
            "grid_auto_columns": null,
            "margin": null,
            "display": null,
            "left": null
          }
        },
        "832d0370b9a44824a21ab228564e8de4": {
          "model_module": "@jupyter-widgets/controls",
          "model_name": "ButtonStyleModel",
          "model_module_version": "1.5.0",
          "state": {
            "_view_name": "StyleView",
            "_model_name": "ButtonStyleModel",
            "_view_module": "@jupyter-widgets/base",
            "_model_module_version": "1.5.0",
            "_view_count": null,
            "button_color": null,
            "font_weight": "",
            "_view_module_version": "1.2.0",
            "_model_module": "@jupyter-widgets/controls"
          }
        },
        "e55348c96fc04afb8ba09229cb4ab4d3": {
          "model_module": "@jupyter-widgets/base",
          "model_name": "LayoutModel",
          "model_module_version": "1.2.0",
          "state": {
            "_view_name": "LayoutView",
            "grid_template_rows": null,
            "right": null,
            "justify_content": null,
            "_view_module": "@jupyter-widgets/base",
            "overflow": null,
            "_model_module_version": "1.2.0",
            "_view_count": null,
            "flex_flow": null,
            "width": null,
            "min_width": null,
            "border": null,
            "align_items": null,
            "bottom": null,
            "_model_module": "@jupyter-widgets/base",
            "top": null,
            "grid_column": null,
            "overflow_y": null,
            "overflow_x": null,
            "grid_auto_flow": null,
            "grid_area": null,
            "grid_template_columns": null,
            "flex": null,
            "_model_name": "LayoutModel",
            "justify_items": null,
            "grid_row": null,
            "max_height": null,
            "align_content": null,
            "visibility": null,
            "align_self": null,
            "height": null,
            "min_height": null,
            "padding": null,
            "grid_auto_rows": null,
            "grid_gap": null,
            "max_width": null,
            "order": null,
            "_view_module_version": "1.2.0",
            "grid_template_areas": null,
            "object_position": null,
            "object_fit": null,
            "grid_auto_columns": null,
            "margin": null,
            "display": null,
            "left": null
          }
        },
        "de9185d10a1a483c8b28e1ebb787dc66": {
          "model_module": "@jupyter-widgets/base",
          "model_name": "LayoutModel",
          "model_module_version": "1.2.0",
          "state": {
            "_view_name": "LayoutView",
            "grid_template_rows": null,
            "right": null,
            "justify_content": null,
            "_view_module": "@jupyter-widgets/base",
            "overflow": null,
            "_model_module_version": "1.2.0",
            "_view_count": null,
            "flex_flow": null,
            "width": "150px",
            "min_width": null,
            "border": null,
            "align_items": null,
            "bottom": null,
            "_model_module": "@jupyter-widgets/base",
            "top": null,
            "grid_column": null,
            "overflow_y": null,
            "overflow_x": null,
            "grid_auto_flow": null,
            "grid_area": null,
            "grid_template_columns": null,
            "flex": null,
            "_model_name": "LayoutModel",
            "justify_items": null,
            "grid_row": null,
            "max_height": null,
            "align_content": null,
            "visibility": null,
            "align_self": null,
            "height": null,
            "min_height": null,
            "padding": null,
            "grid_auto_rows": null,
            "grid_gap": null,
            "max_width": null,
            "order": null,
            "_view_module_version": "1.2.0",
            "grid_template_areas": null,
            "object_position": null,
            "object_fit": null,
            "grid_auto_columns": null,
            "margin": null,
            "display": null,
            "left": null
          }
        },
        "659004cccf154f819689ffd233a10ed5": {
          "model_module": "@jupyter-widgets/controls",
          "model_name": "ButtonStyleModel",
          "model_module_version": "1.5.0",
          "state": {
            "_view_name": "StyleView",
            "_model_name": "ButtonStyleModel",
            "_view_module": "@jupyter-widgets/base",
            "_model_module_version": "1.5.0",
            "_view_count": null,
            "button_color": null,
            "font_weight": "",
            "_view_module_version": "1.2.0",
            "_model_module": "@jupyter-widgets/controls"
          }
        },
        "be43532a326e467099c241a0ea30dc83": {
          "model_module": "@jupyter-widgets/base",
          "model_name": "LayoutModel",
          "model_module_version": "1.2.0",
          "state": {
            "_view_name": "LayoutView",
            "grid_template_rows": null,
            "right": null,
            "justify_content": null,
            "_view_module": "@jupyter-widgets/base",
            "overflow": null,
            "_model_module_version": "1.2.0",
            "_view_count": null,
            "flex_flow": null,
            "width": null,
            "min_width": null,
            "border": null,
            "align_items": null,
            "bottom": null,
            "_model_module": "@jupyter-widgets/base",
            "top": null,
            "grid_column": null,
            "overflow_y": null,
            "overflow_x": null,
            "grid_auto_flow": null,
            "grid_area": null,
            "grid_template_columns": null,
            "flex": null,
            "_model_name": "LayoutModel",
            "justify_items": null,
            "grid_row": null,
            "max_height": null,
            "align_content": null,
            "visibility": null,
            "align_self": null,
            "height": null,
            "min_height": null,
            "padding": null,
            "grid_auto_rows": null,
            "grid_gap": null,
            "max_width": null,
            "order": null,
            "_view_module_version": "1.2.0",
            "grid_template_areas": null,
            "object_position": null,
            "object_fit": null,
            "grid_auto_columns": null,
            "margin": null,
            "display": null,
            "left": null
          }
        },
        "397ce021fcd14c5a8beddf73317ce1c8": {
          "model_module": "@jupyter-widgets/controls",
          "model_name": "HBoxModel",
          "model_module_version": "1.5.0",
          "state": {
            "_view_name": "HBoxView",
            "_dom_classes": [],
            "_model_name": "HBoxModel",
            "_view_module": "@jupyter-widgets/controls",
            "_model_module_version": "1.5.0",
            "_view_count": null,
            "_view_module_version": "1.5.0",
            "box_style": "",
            "layout": "IPY_MODEL_05328e949249479aa989d9c2d96187d9",
            "_model_module": "@jupyter-widgets/controls",
            "children": [
              "IPY_MODEL_157ebc09e4074d049dbca441aed85dfc",
              "IPY_MODEL_d7bb88653d2445d886abcc90eb8c034b"
            ]
          }
        },
        "05328e949249479aa989d9c2d96187d9": {
          "model_module": "@jupyter-widgets/base",
          "model_name": "LayoutModel",
          "model_module_version": "1.2.0",
          "state": {
            "_view_name": "LayoutView",
            "grid_template_rows": null,
            "right": null,
            "justify_content": null,
            "_view_module": "@jupyter-widgets/base",
            "overflow": null,
            "_model_module_version": "1.2.0",
            "_view_count": null,
            "flex_flow": null,
            "width": null,
            "min_width": null,
            "border": null,
            "align_items": null,
            "bottom": null,
            "_model_module": "@jupyter-widgets/base",
            "top": null,
            "grid_column": null,
            "overflow_y": null,
            "overflow_x": null,
            "grid_auto_flow": null,
            "grid_area": null,
            "grid_template_columns": null,
            "flex": null,
            "_model_name": "LayoutModel",
            "justify_items": null,
            "grid_row": null,
            "max_height": null,
            "align_content": null,
            "visibility": null,
            "align_self": null,
            "height": null,
            "min_height": null,
            "padding": null,
            "grid_auto_rows": null,
            "grid_gap": null,
            "max_width": null,
            "order": null,
            "_view_module_version": "1.2.0",
            "grid_template_areas": null,
            "object_position": null,
            "object_fit": null,
            "grid_auto_columns": null,
            "margin": null,
            "display": null,
            "left": null
          }
        },
        "157ebc09e4074d049dbca441aed85dfc": {
          "model_module": "@jupyter-widgets/controls",
          "model_name": "FloatProgressModel",
          "model_module_version": "1.5.0",
          "state": {
            "_view_name": "ProgressView",
            "style": "IPY_MODEL_f8865412459a4dcea954b087286cbd31",
            "_dom_classes": [],
            "description": "100%",
            "_model_name": "FloatProgressModel",
            "bar_style": "success",
            "max": 46830571,
            "_view_module": "@jupyter-widgets/controls",
            "_model_module_version": "1.5.0",
            "value": 46830571,
            "_view_count": null,
            "_view_module_version": "1.5.0",
            "orientation": "horizontal",
            "min": 0,
            "description_tooltip": null,
            "_model_module": "@jupyter-widgets/controls",
            "layout": "IPY_MODEL_f1c43416e28841868f7d53aa84f97fa1"
          }
        },
        "d7bb88653d2445d886abcc90eb8c034b": {
          "model_module": "@jupyter-widgets/controls",
          "model_name": "HTMLModel",
          "model_module_version": "1.5.0",
          "state": {
            "_view_name": "HTMLView",
            "style": "IPY_MODEL_0f7aab1180514c37860888ab62b6a0ff",
            "_dom_classes": [],
            "description": "",
            "_model_name": "HTMLModel",
            "placeholder": "​",
            "_view_module": "@jupyter-widgets/controls",
            "_model_module_version": "1.5.0",
            "value": " 44.7M/44.7M [00:00&lt;00:00, 107MB/s]",
            "_view_count": null,
            "_view_module_version": "1.5.0",
            "description_tooltip": null,
            "_model_module": "@jupyter-widgets/controls",
            "layout": "IPY_MODEL_b9d7df99911f42b09a5f5fbf30c84b07"
          }
        },
        "f8865412459a4dcea954b087286cbd31": {
          "model_module": "@jupyter-widgets/controls",
          "model_name": "ProgressStyleModel",
          "model_module_version": "1.5.0",
          "state": {
            "_view_name": "StyleView",
            "_model_name": "ProgressStyleModel",
            "description_width": "initial",
            "_view_module": "@jupyter-widgets/base",
            "_model_module_version": "1.5.0",
            "_view_count": null,
            "_view_module_version": "1.2.0",
            "bar_color": null,
            "_model_module": "@jupyter-widgets/controls"
          }
        },
        "f1c43416e28841868f7d53aa84f97fa1": {
          "model_module": "@jupyter-widgets/base",
          "model_name": "LayoutModel",
          "model_module_version": "1.2.0",
          "state": {
            "_view_name": "LayoutView",
            "grid_template_rows": null,
            "right": null,
            "justify_content": null,
            "_view_module": "@jupyter-widgets/base",
            "overflow": null,
            "_model_module_version": "1.2.0",
            "_view_count": null,
            "flex_flow": null,
            "width": null,
            "min_width": null,
            "border": null,
            "align_items": null,
            "bottom": null,
            "_model_module": "@jupyter-widgets/base",
            "top": null,
            "grid_column": null,
            "overflow_y": null,
            "overflow_x": null,
            "grid_auto_flow": null,
            "grid_area": null,
            "grid_template_columns": null,
            "flex": null,
            "_model_name": "LayoutModel",
            "justify_items": null,
            "grid_row": null,
            "max_height": null,
            "align_content": null,
            "visibility": null,
            "align_self": null,
            "height": null,
            "min_height": null,
            "padding": null,
            "grid_auto_rows": null,
            "grid_gap": null,
            "max_width": null,
            "order": null,
            "_view_module_version": "1.2.0",
            "grid_template_areas": null,
            "object_position": null,
            "object_fit": null,
            "grid_auto_columns": null,
            "margin": null,
            "display": null,
            "left": null
          }
        },
        "0f7aab1180514c37860888ab62b6a0ff": {
          "model_module": "@jupyter-widgets/controls",
          "model_name": "DescriptionStyleModel",
          "model_module_version": "1.5.0",
          "state": {
            "_view_name": "StyleView",
            "_model_name": "DescriptionStyleModel",
            "description_width": "",
            "_view_module": "@jupyter-widgets/base",
            "_model_module_version": "1.5.0",
            "_view_count": null,
            "_view_module_version": "1.2.0",
            "_model_module": "@jupyter-widgets/controls"
          }
        },
        "b9d7df99911f42b09a5f5fbf30c84b07": {
          "model_module": "@jupyter-widgets/base",
          "model_name": "LayoutModel",
          "model_module_version": "1.2.0",
          "state": {
            "_view_name": "LayoutView",
            "grid_template_rows": null,
            "right": null,
            "justify_content": null,
            "_view_module": "@jupyter-widgets/base",
            "overflow": null,
            "_model_module_version": "1.2.0",
            "_view_count": null,
            "flex_flow": null,
            "width": null,
            "min_width": null,
            "border": null,
            "align_items": null,
            "bottom": null,
            "_model_module": "@jupyter-widgets/base",
            "top": null,
            "grid_column": null,
            "overflow_y": null,
            "overflow_x": null,
            "grid_auto_flow": null,
            "grid_area": null,
            "grid_template_columns": null,
            "flex": null,
            "_model_name": "LayoutModel",
            "justify_items": null,
            "grid_row": null,
            "max_height": null,
            "align_content": null,
            "visibility": null,
            "align_self": null,
            "height": null,
            "min_height": null,
            "padding": null,
            "grid_auto_rows": null,
            "grid_gap": null,
            "max_width": null,
            "order": null,
            "_view_module_version": "1.2.0",
            "grid_template_areas": null,
            "object_position": null,
            "object_fit": null,
            "grid_auto_columns": null,
            "margin": null,
            "display": null,
            "left": null
          }
        },
        "d66b3a9c337346a7a1328a84aedad107": {
          "model_module": "@jupyter-widgets/controls",
          "model_name": "FileUploadModel",
          "model_module_version": "1.5.0",
          "state": {
            "_view_name": "FileUploadView",
            "_counter": 1,
            "style": "IPY_MODEL_2243862acf804569ae342b178ecc7f68",
            "_dom_classes": [],
            "description": "Upload",
            "multiple": false,
            "_model_name": "FileUploadModel",
            "data": [
              null
            ],
            "button_style": "",
            "_view_module": "@jupyter-widgets/controls",
            "_model_module_version": "1.5.0",
            "accept": "",
            "_view_count": null,
            "disabled": false,
            "_view_module_version": "1.5.0",
            "error": "",
            "description_tooltip": null,
            "metadata": [
              {
                "name": "istockphoto-952081702-612x612.jpg",
                "type": "image/jpeg",
                "size": 34037,
                "lastModified": 1628046413794
              }
            ],
            "_model_module": "@jupyter-widgets/controls",
            "layout": "IPY_MODEL_ee01aea2648b48f4842b463153920850",
            "icon": "upload"
          }
        },
        "2243862acf804569ae342b178ecc7f68": {
          "model_module": "@jupyter-widgets/controls",
          "model_name": "ButtonStyleModel",
          "model_module_version": "1.5.0",
          "state": {
            "_view_name": "StyleView",
            "_model_name": "ButtonStyleModel",
            "_view_module": "@jupyter-widgets/base",
            "_model_module_version": "1.5.0",
            "_view_count": null,
            "button_color": null,
            "font_weight": "",
            "_view_module_version": "1.2.0",
            "_model_module": "@jupyter-widgets/controls"
          }
        },
        "ee01aea2648b48f4842b463153920850": {
          "model_module": "@jupyter-widgets/base",
          "model_name": "LayoutModel",
          "model_module_version": "1.2.0",
          "state": {
            "_view_name": "LayoutView",
            "grid_template_rows": null,
            "right": null,
            "justify_content": null,
            "_view_module": "@jupyter-widgets/base",
            "overflow": null,
            "_model_module_version": "1.2.0",
            "_view_count": null,
            "flex_flow": null,
            "width": null,
            "min_width": null,
            "border": null,
            "align_items": null,
            "bottom": null,
            "_model_module": "@jupyter-widgets/base",
            "top": null,
            "grid_column": null,
            "overflow_y": null,
            "overflow_x": null,
            "grid_auto_flow": null,
            "grid_area": null,
            "grid_template_columns": null,
            "flex": null,
            "_model_name": "LayoutModel",
            "justify_items": null,
            "grid_row": null,
            "max_height": null,
            "align_content": null,
            "visibility": null,
            "align_self": null,
            "height": null,
            "min_height": null,
            "padding": null,
            "grid_auto_rows": null,
            "grid_gap": null,
            "max_width": null,
            "order": null,
            "_view_module_version": "1.2.0",
            "grid_template_areas": null,
            "object_position": null,
            "object_fit": null,
            "grid_auto_columns": null,
            "margin": null,
            "display": null,
            "left": null
          }
        },
        "e8b769fc53dc44f29f5c34e30320277b": {
          "model_module": "@jupyter-widgets/output",
          "model_name": "OutputModel",
          "model_module_version": "1.0.0",
          "state": {
            "_view_name": "OutputView",
            "msg_id": "",
            "_dom_classes": [],
            "_model_name": "OutputModel",
            "outputs": [
              {
                "output_type": "display_data",
                "metadata": {
                  "tags": []
                },
                "image/png": "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\n",
                "text/plain": "<PIL.Image.Image image mode=RGB size=125x128 at 0x7F8BB9856D10>"
              }
            ],
            "_view_module": "@jupyter-widgets/output",
            "_model_module_version": "1.0.0",
            "_view_count": null,
            "_view_module_version": "1.0.0",
            "layout": "IPY_MODEL_cf0090daabca451e8589b8636867ce44",
            "_model_module": "@jupyter-widgets/output"
          }
        },
        "cf0090daabca451e8589b8636867ce44": {
          "model_module": "@jupyter-widgets/base",
          "model_name": "LayoutModel",
          "model_module_version": "1.2.0",
          "state": {
            "_view_name": "LayoutView",
            "grid_template_rows": null,
            "right": null,
            "justify_content": null,
            "_view_module": "@jupyter-widgets/base",
            "overflow": null,
            "_model_module_version": "1.2.0",
            "_view_count": null,
            "flex_flow": null,
            "width": null,
            "min_width": null,
            "border": null,
            "align_items": null,
            "bottom": null,
            "_model_module": "@jupyter-widgets/base",
            "top": null,
            "grid_column": null,
            "overflow_y": null,
            "overflow_x": null,
            "grid_auto_flow": null,
            "grid_area": null,
            "grid_template_columns": null,
            "flex": null,
            "_model_name": "LayoutModel",
            "justify_items": null,
            "grid_row": null,
            "max_height": null,
            "align_content": null,
            "visibility": null,
            "align_self": null,
            "height": null,
            "min_height": null,
            "padding": null,
            "grid_auto_rows": null,
            "grid_gap": null,
            "max_width": null,
            "order": null,
            "_view_module_version": "1.2.0",
            "grid_template_areas": null,
            "object_position": null,
            "object_fit": null,
            "grid_auto_columns": null,
            "margin": null,
            "display": null,
            "left": null
          }
        },
        "bc6742cffe8a4050a4e75492b1512ce4": {
          "model_module": "@jupyter-widgets/controls",
          "model_name": "LabelModel",
          "model_module_version": "1.5.0",
          "state": {
            "_view_name": "LabelView",
            "style": "IPY_MODEL_31ff6d4b2b4c4ad08079e6eea78f851d",
            "_dom_classes": [],
            "description": "",
            "_model_name": "LabelModel",
            "placeholder": "​",
            "_view_module": "@jupyter-widgets/controls",
            "_model_module_version": "1.5.0",
            "value": "Prediction: teddy_bear; Probability: 1.0000",
            "_view_count": null,
            "_view_module_version": "1.5.0",
            "description_tooltip": null,
            "_model_module": "@jupyter-widgets/controls",
            "layout": "IPY_MODEL_bd25b11d428f4c90bf617f9118eeaf8f"
          }
        },
        "31ff6d4b2b4c4ad08079e6eea78f851d": {
          "model_module": "@jupyter-widgets/controls",
          "model_name": "DescriptionStyleModel",
          "model_module_version": "1.5.0",
          "state": {
            "_view_name": "StyleView",
            "_model_name": "DescriptionStyleModel",
            "description_width": "",
            "_view_module": "@jupyter-widgets/base",
            "_model_module_version": "1.5.0",
            "_view_count": null,
            "_view_module_version": "1.2.0",
            "_model_module": "@jupyter-widgets/controls"
          }
        },
        "bd25b11d428f4c90bf617f9118eeaf8f": {
          "model_module": "@jupyter-widgets/base",
          "model_name": "LayoutModel",
          "model_module_version": "1.2.0",
          "state": {
            "_view_name": "LayoutView",
            "grid_template_rows": null,
            "right": null,
            "justify_content": null,
            "_view_module": "@jupyter-widgets/base",
            "overflow": null,
            "_model_module_version": "1.2.0",
            "_view_count": null,
            "flex_flow": null,
            "width": null,
            "min_width": null,
            "border": null,
            "align_items": null,
            "bottom": null,
            "_model_module": "@jupyter-widgets/base",
            "top": null,
            "grid_column": null,
            "overflow_y": null,
            "overflow_x": null,
            "grid_auto_flow": null,
            "grid_area": null,
            "grid_template_columns": null,
            "flex": null,
            "_model_name": "LayoutModel",
            "justify_items": null,
            "grid_row": null,
            "max_height": null,
            "align_content": null,
            "visibility": null,
            "align_self": null,
            "height": null,
            "min_height": null,
            "padding": null,
            "grid_auto_rows": null,
            "grid_gap": null,
            "max_width": null,
            "order": null,
            "_view_module_version": "1.2.0",
            "grid_template_areas": null,
            "object_position": null,
            "object_fit": null,
            "grid_auto_columns": null,
            "margin": null,
            "display": null,
            "left": null
          }
        },
        "b2da7a207aeb41a09e4b2a7d48b5511a": {
          "model_module": "@jupyter-widgets/controls",
          "model_name": "ButtonModel",
          "model_module_version": "1.5.0",
          "state": {
            "_view_name": "ButtonView",
            "style": "IPY_MODEL_7549f587c02e4138b6aad3d78ba4c09a",
            "_dom_classes": [],
            "description": "Classify",
            "_model_name": "ButtonModel",
            "button_style": "",
            "_view_module": "@jupyter-widgets/controls",
            "_model_module_version": "1.5.0",
            "tooltip": "",
            "_view_count": null,
            "disabled": false,
            "_view_module_version": "1.5.0",
            "layout": "IPY_MODEL_095d2d5e6bb54fca9cf0e99bb8b9311e",
            "_model_module": "@jupyter-widgets/controls",
            "icon": ""
          }
        },
        "7549f587c02e4138b6aad3d78ba4c09a": {
          "model_module": "@jupyter-widgets/controls",
          "model_name": "ButtonStyleModel",
          "model_module_version": "1.5.0",
          "state": {
            "_view_name": "StyleView",
            "_model_name": "ButtonStyleModel",
            "_view_module": "@jupyter-widgets/base",
            "_model_module_version": "1.5.0",
            "_view_count": null,
            "button_color": null,
            "font_weight": "",
            "_view_module_version": "1.2.0",
            "_model_module": "@jupyter-widgets/controls"
          }
        },
        "095d2d5e6bb54fca9cf0e99bb8b9311e": {
          "model_module": "@jupyter-widgets/base",
          "model_name": "LayoutModel",
          "model_module_version": "1.2.0",
          "state": {
            "_view_name": "LayoutView",
            "grid_template_rows": null,
            "right": null,
            "justify_content": null,
            "_view_module": "@jupyter-widgets/base",
            "overflow": null,
            "_model_module_version": "1.2.0",
            "_view_count": null,
            "flex_flow": null,
            "width": null,
            "min_width": null,
            "border": null,
            "align_items": null,
            "bottom": null,
            "_model_module": "@jupyter-widgets/base",
            "top": null,
            "grid_column": null,
            "overflow_y": null,
            "overflow_x": null,
            "grid_auto_flow": null,
            "grid_area": null,
            "grid_template_columns": null,
            "flex": null,
            "_model_name": "LayoutModel",
            "justify_items": null,
            "grid_row": null,
            "max_height": null,
            "align_content": null,
            "visibility": null,
            "align_self": null,
            "height": null,
            "min_height": null,
            "padding": null,
            "grid_auto_rows": null,
            "grid_gap": null,
            "max_width": null,
            "order": null,
            "_view_module_version": "1.2.0",
            "grid_template_areas": null,
            "object_position": null,
            "object_fit": null,
            "grid_auto_columns": null,
            "margin": null,
            "display": null,
            "left": null
          }
        },
        "19066ebd01c644b8a030515bddadbd5e": {
          "model_module": "@jupyter-widgets/controls",
          "model_name": "VBoxModel",
          "model_module_version": "1.5.0",
          "state": {
            "_view_name": "VBoxView",
            "_dom_classes": [],
            "_model_name": "VBoxModel",
            "_view_module": "@jupyter-widgets/controls",
            "_model_module_version": "1.5.0",
            "_view_count": null,
            "_view_module_version": "1.5.0",
            "box_style": "",
            "layout": "IPY_MODEL_739aa67614de4d25abcabe74aa4134d6",
            "_model_module": "@jupyter-widgets/controls",
            "children": [
              "IPY_MODEL_2107f5085afb4fffb896144ce6a739db",
              "IPY_MODEL_49bfb0968b6f47418ce5b5e62a3ee8ae",
              "IPY_MODEL_b2da7a207aeb41a09e4b2a7d48b5511a",
              "IPY_MODEL_e8b769fc53dc44f29f5c34e30320277b",
              "IPY_MODEL_bc6742cffe8a4050a4e75492b1512ce4"
            ]
          }
        },
        "739aa67614de4d25abcabe74aa4134d6": {
          "model_module": "@jupyter-widgets/base",
          "model_name": "LayoutModel",
          "model_module_version": "1.2.0",
          "state": {
            "_view_name": "LayoutView",
            "grid_template_rows": null,
            "right": null,
            "justify_content": null,
            "_view_module": "@jupyter-widgets/base",
            "overflow": null,
            "_model_module_version": "1.2.0",
            "_view_count": null,
            "flex_flow": null,
            "width": null,
            "min_width": null,
            "border": null,
            "align_items": null,
            "bottom": null,
            "_model_module": "@jupyter-widgets/base",
            "top": null,
            "grid_column": null,
            "overflow_y": null,
            "overflow_x": null,
            "grid_auto_flow": null,
            "grid_area": null,
            "grid_template_columns": null,
            "flex": null,
            "_model_name": "LayoutModel",
            "justify_items": null,
            "grid_row": null,
            "max_height": null,
            "align_content": null,
            "visibility": null,
            "align_self": null,
            "height": null,
            "min_height": null,
            "padding": null,
            "grid_auto_rows": null,
            "grid_gap": null,
            "max_width": null,
            "order": null,
            "_view_module_version": "1.2.0",
            "grid_template_areas": null,
            "object_position": null,
            "object_fit": null,
            "grid_auto_columns": null,
            "margin": null,
            "display": null,
            "left": null
          }
        },
        "2107f5085afb4fffb896144ce6a739db": {
          "model_module": "@jupyter-widgets/controls",
          "model_name": "LabelModel",
          "model_module_version": "1.5.0",
          "state": {
            "_view_name": "LabelView",
            "style": "IPY_MODEL_a9fcc204b68040148c1c504a675cd10e",
            "_dom_classes": [],
            "description": "",
            "_model_name": "LabelModel",
            "placeholder": "​",
            "_view_module": "@jupyter-widgets/controls",
            "_model_module_version": "1.5.0",
            "value": "Select your bear!",
            "_view_count": null,
            "_view_module_version": "1.5.0",
            "description_tooltip": null,
            "_model_module": "@jupyter-widgets/controls",
            "layout": "IPY_MODEL_6ff29c466fa84fbf995fbfdc6e52d509"
          }
        },
        "49bfb0968b6f47418ce5b5e62a3ee8ae": {
          "model_module": "@jupyter-widgets/controls",
          "model_name": "FileUploadModel",
          "model_module_version": "1.5.0",
          "state": {
            "_view_name": "FileUploadView",
            "_counter": 1,
            "style": "IPY_MODEL_e3130441a44949d7a838713e106a8e2d",
            "_dom_classes": [],
            "description": "Upload",
            "multiple": false,
            "_model_name": "FileUploadModel",
            "data": [
              null
            ],
            "button_style": "",
            "_view_module": "@jupyter-widgets/controls",
            "_model_module_version": "1.5.0",
            "accept": "",
            "_view_count": null,
            "disabled": false,
            "_view_module_version": "1.5.0",
            "error": "",
            "description_tooltip": null,
            "metadata": [
              {
                "name": "istockphoto-952081702-612x612.jpg",
                "type": "image/jpeg",
                "size": 34037,
                "lastModified": 1628046413794
              }
            ],
            "_model_module": "@jupyter-widgets/controls",
            "layout": "IPY_MODEL_a60cd7935cc044d49cdc28d6b1326cff",
            "icon": "upload"
          }
        },
        "a9fcc204b68040148c1c504a675cd10e": {
          "model_module": "@jupyter-widgets/controls",
          "model_name": "DescriptionStyleModel",
          "model_module_version": "1.5.0",
          "state": {
            "_view_name": "StyleView",
            "_model_name": "DescriptionStyleModel",
            "description_width": "",
            "_view_module": "@jupyter-widgets/base",
            "_model_module_version": "1.5.0",
            "_view_count": null,
            "_view_module_version": "1.2.0",
            "_model_module": "@jupyter-widgets/controls"
          }
        },
        "6ff29c466fa84fbf995fbfdc6e52d509": {
          "model_module": "@jupyter-widgets/base",
          "model_name": "LayoutModel",
          "model_module_version": "1.2.0",
          "state": {
            "_view_name": "LayoutView",
            "grid_template_rows": null,
            "right": null,
            "justify_content": null,
            "_view_module": "@jupyter-widgets/base",
            "overflow": null,
            "_model_module_version": "1.2.0",
            "_view_count": null,
            "flex_flow": null,
            "width": null,
            "min_width": null,
            "border": null,
            "align_items": null,
            "bottom": null,
            "_model_module": "@jupyter-widgets/base",
            "top": null,
            "grid_column": null,
            "overflow_y": null,
            "overflow_x": null,
            "grid_auto_flow": null,
            "grid_area": null,
            "grid_template_columns": null,
            "flex": null,
            "_model_name": "LayoutModel",
            "justify_items": null,
            "grid_row": null,
            "max_height": null,
            "align_content": null,
            "visibility": null,
            "align_self": null,
            "height": null,
            "min_height": null,
            "padding": null,
            "grid_auto_rows": null,
            "grid_gap": null,
            "max_width": null,
            "order": null,
            "_view_module_version": "1.2.0",
            "grid_template_areas": null,
            "object_position": null,
            "object_fit": null,
            "grid_auto_columns": null,
            "margin": null,
            "display": null,
            "left": null
          }
        },
        "e3130441a44949d7a838713e106a8e2d": {
          "model_module": "@jupyter-widgets/controls",
          "model_name": "ButtonStyleModel",
          "model_module_version": "1.5.0",
          "state": {
            "_view_name": "StyleView",
            "_model_name": "ButtonStyleModel",
            "_view_module": "@jupyter-widgets/base",
            "_model_module_version": "1.5.0",
            "_view_count": null,
            "button_color": null,
            "font_weight": "",
            "_view_module_version": "1.2.0",
            "_model_module": "@jupyter-widgets/controls"
          }
        },
        "a60cd7935cc044d49cdc28d6b1326cff": {
          "model_module": "@jupyter-widgets/base",
          "model_name": "LayoutModel",
          "model_module_version": "1.2.0",
          "state": {
            "_view_name": "LayoutView",
            "grid_template_rows": null,
            "right": null,
            "justify_content": null,
            "_view_module": "@jupyter-widgets/base",
            "overflow": null,
            "_model_module_version": "1.2.0",
            "_view_count": null,
            "flex_flow": null,
            "width": null,
            "min_width": null,
            "border": null,
            "align_items": null,
            "bottom": null,
            "_model_module": "@jupyter-widgets/base",
            "top": null,
            "grid_column": null,
            "overflow_y": null,
            "overflow_x": null,
            "grid_auto_flow": null,
            "grid_area": null,
            "grid_template_columns": null,
            "flex": null,
            "_model_name": "LayoutModel",
            "justify_items": null,
            "grid_row": null,
            "max_height": null,
            "align_content": null,
            "visibility": null,
            "align_self": null,
            "height": null,
            "min_height": null,
            "padding": null,
            "grid_auto_rows": null,
            "grid_gap": null,
            "max_width": null,
            "order": null,
            "_view_module_version": "1.2.0",
            "grid_template_areas": null,
            "object_position": null,
            "object_fit": null,
            "grid_auto_columns": null,
            "margin": null,
            "display": null,
            "left": null
          }
        }
      }
    }
  },
  "cells": [
    {
      "cell_type": "code",
      "metadata": {
        "colab": {
          "base_uri": "https://localhost:8080/"
        },
        "id": "SKEtI7YNjE2R",
        "outputId": "c0c8d729-5d46-4bd0-f3ab-a6d206b2d558"
      },
      "source": [
        "#hide\n",
        "!pip install -Uqq fastbook\n",
        "import fastbook\n",
        "fastbook.setup_book()"
      ],
      "execution_count": null,
      "outputs": [
        {
          "output_type": "stream",
          "text": [
            "\u001b[K     |████████████████████████████████| 720 kB 5.4 MB/s \n",
            "\u001b[K     |████████████████████████████████| 186 kB 49.5 MB/s \n",
            "\u001b[K     |████████████████████████████████| 1.2 MB 35.6 MB/s \n",
            "\u001b[K     |████████████████████████████████| 46 kB 4.2 MB/s \n",
            "\u001b[K     |████████████████████████████████| 56 kB 4.7 MB/s \n",
            "\u001b[K     |████████████████████████████████| 51 kB 333 kB/s \n",
            "\u001b[?25h"
          ],
          "name": "stdout"
        }
      ]
    },
    {
      "cell_type": "code",
      "metadata": {
        "id": "y1fOBO7HjbES"
      },
      "source": [
        "!pip install -q jmd_imagescraper                 # image scaraper library by Joe Dockrill, download images from duckduckgo\n",
        "\n",
        "from fastbook import *                          #import everything from fast book\n",
        "\n",
        "from fastai.vision.widgets import *              # * means import every thing from that library\n",
        "\n",
        "#import the image scraper by @JoeDockrill, website: https://joedockrill.github.io/blog/2020/09/18/jmd-imagescraper-library/\n",
        "from jmd_imagescraper.core import * \n",
        "from pathlib import Path\n",
        "from jmd_imagescraper.imagecleaner import *    \n"
      ],
      "execution_count": null,
      "outputs": []
    },
    {
      "cell_type": "code",
      "metadata": {
        "id": "BJ8FZD0_jbLW"
      },
      "source": [
        "animals=['grizzly_bear','teddy_bear','black_bear']    # animal is a folder to which we can download our images\n",
        "path = Path().cwd()/\"animals\"                        #assigns path to current working directory"
      ],
      "execution_count": null,
      "outputs": []
    },
    {
      "cell_type": "code",
      "metadata": {
        "colab": {
          "base_uri": "https://localhost:8080/",
          "height": 1000
        },
        "id": "jmFreASWR8h0",
        "outputId": "0443e06b-bc81-47dc-d785-f24c9cb530cc"
      },
      "source": [
        "duckduckgo_search(path,\"grizzly_bear\",\"grizzly bears\",max_results=100)  #downloads 100 images of 'grizzly bears' and saves it in path/grizzly_bear\n",
        "duckduckgo_search(path,\"teddy_bear\",\"teddy bears\",max_results=100) # download 100 images of teddy bears\n",
        "duckduckgo_search(path,\"black_bear\",\"black bears\",max_results=100) # download 100 images of black bears"
      ],
      "execution_count": null,
      "outputs": [
        {
          "output_type": "stream",
          "text": [
            "Duckduckgo search: grizzly bears\n",
            "Downloading results into /content/animals/grizzly_bear\n"
          ],
          "name": "stdout"
        },
        {
          "output_type": "display_data",
          "data": {
            "text/html": [
              "\n",
              "    <div>\n",
              "        <style>\n",
              "            /* Turns off some styling */\n",
              "            progress {\n",
              "                /* gets rid of default border in Firefox and Opera. */\n",
              "                border: none;\n",
              "                /* Needs to be in here for Safari polyfill so background images work as expected. */\n",
              "                background-size: auto;\n",
              "            }\n",
              "            .progress-bar-interrupted, .progress-bar-interrupted::-webkit-progress-bar {\n",
              "                background: #F44336;\n",
              "            }\n",
              "        </style>\n",
              "      <progress value='100' class='' max='100' style='width:300px; height:20px; vertical-align: middle;'></progress>\n",
              "      100.00% [100/100 00:09<00:00 Images downloaded]\n",
              "    </div>\n",
              "    "
            ],
            "text/plain": [
              "<IPython.core.display.HTML object>"
            ]
          },
          "metadata": {
            "tags": []
          }
        },
        {
          "output_type": "stream",
          "text": [
            "Duckduckgo search: teddy bears\n",
            "Downloading results into /content/animals/teddy_bear\n"
          ],
          "name": "stdout"
        },
        {
          "output_type": "display_data",
          "data": {
            "text/html": [
              "\n",
              "    <div>\n",
              "        <style>\n",
              "            /* Turns off some styling */\n",
              "            progress {\n",
              "                /* gets rid of default border in Firefox and Opera. */\n",
              "                border: none;\n",
              "                /* Needs to be in here for Safari polyfill so background images work as expected. */\n",
              "                background-size: auto;\n",
              "            }\n",
              "            .progress-bar-interrupted, .progress-bar-interrupted::-webkit-progress-bar {\n",
              "                background: #F44336;\n",
              "            }\n",
              "        </style>\n",
              "      <progress value='100' class='' max='100' style='width:300px; height:20px; vertical-align: middle;'></progress>\n",
              "      100.00% [100/100 00:09<00:00 Images downloaded]\n",
              "    </div>\n",
              "    "
            ],
            "text/plain": [
              "<IPython.core.display.HTML object>"
            ]
          },
          "metadata": {
            "tags": []
          }
        },
        {
          "output_type": "stream",
          "text": [
            "Duckduckgo search: black bears\n",
            "Downloading results into /content/animals/black_bear\n"
          ],
          "name": "stdout"
        },
        {
          "output_type": "display_data",
          "data": {
            "text/html": [
              "\n",
              "    <div>\n",
              "        <style>\n",
              "            /* Turns off some styling */\n",
              "            progress {\n",
              "                /* gets rid of default border in Firefox and Opera. */\n",
              "                border: none;\n",
              "                /* Needs to be in here for Safari polyfill so background images work as expected. */\n",
              "                background-size: auto;\n",
              "            }\n",
              "            .progress-bar-interrupted, .progress-bar-interrupted::-webkit-progress-bar {\n",
              "                background: #F44336;\n",
              "            }\n",
              "        </style>\n",
              "      <progress value='100' class='' max='100' style='width:300px; height:20px; vertical-align: middle;'></progress>\n",
              "      100.00% [100/100 00:08<00:00 Images downloaded]\n",
              "    </div>\n",
              "    "
            ],
            "text/plain": [
              "<IPython.core.display.HTML object>"
            ]
          },
          "metadata": {
            "tags": []
          }
        },
        {
          "output_type": "execute_result",
          "data": {
            "text/plain": [
              "[Path('/content/animals/black_bear/001_91e3cab9.jpg'),\n",
              " Path('/content/animals/black_bear/002_95b6b63e.jpg'),\n",
              " Path('/content/animals/black_bear/003_e1365716.jpg'),\n",
              " Path('/content/animals/black_bear/004_85c40ac8.jpg'),\n",
              " Path('/content/animals/black_bear/005_974f3fc8.jpg'),\n",
              " Path('/content/animals/black_bear/006_2175490b.jpg'),\n",
              " Path('/content/animals/black_bear/007_610e62dd.jpg'),\n",
              " Path('/content/animals/black_bear/008_6e15b2f2.jpg'),\n",
              " Path('/content/animals/black_bear/009_7de39e11.jpg'),\n",
              " Path('/content/animals/black_bear/010_f79fbc3b.jpg'),\n",
              " Path('/content/animals/black_bear/011_91aa9d55.jpg'),\n",
              " Path('/content/animals/black_bear/012_407c6908.jpg'),\n",
              " Path('/content/animals/black_bear/013_a16ddf6f.jpg'),\n",
              " Path('/content/animals/black_bear/014_0c7628eb.jpg'),\n",
              " Path('/content/animals/black_bear/015_1c6d58ea.jpg'),\n",
              " Path('/content/animals/black_bear/016_b6971c57.jpg'),\n",
              " Path('/content/animals/black_bear/017_14a9baed.jpg'),\n",
              " Path('/content/animals/black_bear/018_6767f69d.jpg'),\n",
              " Path('/content/animals/black_bear/019_08335877.jpg'),\n",
              " Path('/content/animals/black_bear/020_692b4b20.jpg'),\n",
              " Path('/content/animals/black_bear/021_9fdb57dc.jpg'),\n",
              " Path('/content/animals/black_bear/022_b9f19773.jpg'),\n",
              " Path('/content/animals/black_bear/023_e3aa5da4.jpg'),\n",
              " Path('/content/animals/black_bear/024_51e24877.jpg'),\n",
              " Path('/content/animals/black_bear/025_c2973dfa.jpg'),\n",
              " Path('/content/animals/black_bear/026_1619144e.jpg'),\n",
              " Path('/content/animals/black_bear/027_b26ed0f5.jpg'),\n",
              " Path('/content/animals/black_bear/028_4a58c480.jpg'),\n",
              " Path('/content/animals/black_bear/029_19cbb983.jpg'),\n",
              " Path('/content/animals/black_bear/030_f3065f9b.jpg'),\n",
              " Path('/content/animals/black_bear/031_4cd5f44b.jpg'),\n",
              " Path('/content/animals/black_bear/032_c335c7f5.jpg'),\n",
              " Path('/content/animals/black_bear/033_0c5df9e8.jpg'),\n",
              " Path('/content/animals/black_bear/034_bfaeb17c.jpg'),\n",
              " Path('/content/animals/black_bear/035_6298ae9d.jpg'),\n",
              " Path('/content/animals/black_bear/036_3871991c.jpg'),\n",
              " Path('/content/animals/black_bear/037_8fe29baf.jpg'),\n",
              " Path('/content/animals/black_bear/038_2f37f4e2.jpg'),\n",
              " Path('/content/animals/black_bear/039_e7f0d279.jpg'),\n",
              " Path('/content/animals/black_bear/040_fe750604.jpg'),\n",
              " Path('/content/animals/black_bear/041_b09944bc.jpg'),\n",
              " Path('/content/animals/black_bear/042_9493600b.jpg'),\n",
              " Path('/content/animals/black_bear/043_eb5aa9c8.jpg'),\n",
              " Path('/content/animals/black_bear/044_0866a589.jpg'),\n",
              " Path('/content/animals/black_bear/045_1e1ed430.jpg'),\n",
              " Path('/content/animals/black_bear/046_092065e8.jpg'),\n",
              " Path('/content/animals/black_bear/047_d51ba076.jpg'),\n",
              " Path('/content/animals/black_bear/048_dd0d2b9a.jpg'),\n",
              " Path('/content/animals/black_bear/049_b8d5e757.jpg'),\n",
              " Path('/content/animals/black_bear/050_b08030da.jpg'),\n",
              " Path('/content/animals/black_bear/051_fefcc852.jpg'),\n",
              " Path('/content/animals/black_bear/052_c11d62db.jpg'),\n",
              " Path('/content/animals/black_bear/053_1c3a25b9.jpg'),\n",
              " Path('/content/animals/black_bear/054_93a095fa.jpg'),\n",
              " Path('/content/animals/black_bear/055_6568deac.jpg'),\n",
              " Path('/content/animals/black_bear/056_81dc87fb.jpg'),\n",
              " Path('/content/animals/black_bear/057_f06bb51d.jpg'),\n",
              " Path('/content/animals/black_bear/058_e2d8825a.jpg'),\n",
              " Path('/content/animals/black_bear/059_b1d85102.jpg'),\n",
              " Path('/content/animals/black_bear/060_0e51bbb6.jpg'),\n",
              " Path('/content/animals/black_bear/061_b5e1ba65.jpg'),\n",
              " Path('/content/animals/black_bear/062_766e8e47.jpg'),\n",
              " Path('/content/animals/black_bear/063_3a0d2ba0.jpg'),\n",
              " Path('/content/animals/black_bear/064_2692bacb.jpg'),\n",
              " Path('/content/animals/black_bear/065_aed81f9f.jpg'),\n",
              " Path('/content/animals/black_bear/066_bb8f778e.jpg'),\n",
              " Path('/content/animals/black_bear/067_2247852e.jpg'),\n",
              " Path('/content/animals/black_bear/068_7cbe07bf.jpg'),\n",
              " Path('/content/animals/black_bear/069_288d3f46.jpg'),\n",
              " Path('/content/animals/black_bear/070_6d80f435.jpg'),\n",
              " Path('/content/animals/black_bear/071_e9354bd5.jpg'),\n",
              " Path('/content/animals/black_bear/072_316bd9f9.jpg'),\n",
              " Path('/content/animals/black_bear/073_11b34757.jpg'),\n",
              " Path('/content/animals/black_bear/074_32e485c5.jpg'),\n",
              " Path('/content/animals/black_bear/075_4500d890.jpg'),\n",
              " Path('/content/animals/black_bear/076_09684216.jpg'),\n",
              " Path('/content/animals/black_bear/077_2d8cbac3.jpg'),\n",
              " Path('/content/animals/black_bear/078_90ffaca4.jpg'),\n",
              " Path('/content/animals/black_bear/079_31ccdc0f.jpg'),\n",
              " Path('/content/animals/black_bear/080_dd7cac2e.jpg'),\n",
              " Path('/content/animals/black_bear/081_36e97537.jpg'),\n",
              " Path('/content/animals/black_bear/082_5365fbce.jpg'),\n",
              " Path('/content/animals/black_bear/083_2342d3cb.jpg'),\n",
              " Path('/content/animals/black_bear/084_33f743e6.jpg'),\n",
              " Path('/content/animals/black_bear/085_a0d70bec.jpg'),\n",
              " Path('/content/animals/black_bear/086_50299db6.jpg'),\n",
              " Path('/content/animals/black_bear/087_f2fa4346.jpg'),\n",
              " Path('/content/animals/black_bear/088_8f034011.jpg'),\n",
              " Path('/content/animals/black_bear/089_5b153725.jpg'),\n",
              " Path('/content/animals/black_bear/090_fd22846a.jpg'),\n",
              " Path('/content/animals/black_bear/091_38704d1f.jpg'),\n",
              " Path('/content/animals/black_bear/092_ca482b60.jpg'),\n",
              " Path('/content/animals/black_bear/093_bc4be63e.jpg'),\n",
              " Path('/content/animals/black_bear/094_bf051326.jpg'),\n",
              " Path('/content/animals/black_bear/095_b1c3f98a.jpg'),\n",
              " Path('/content/animals/black_bear/096_5bfa9320.jpg'),\n",
              " Path('/content/animals/black_bear/097_7259f21f.jpg'),\n",
              " Path('/content/animals/black_bear/098_e4c6f1a8.jpg'),\n",
              " Path('/content/animals/black_bear/099_1b5f3d07.jpg'),\n",
              " Path('/content/animals/black_bear/100_c6a92805.jpg')]"
            ]
          },
          "metadata": {
            "tags": []
          },
          "execution_count": 4
        }
      ]
    },
    {
      "cell_type": "code",
      "metadata": {
        "colab": {
          "base_uri": "https://localhost:8080/",
          "height": 562,
          "referenced_widgets": [
            "5adfc8b1ab5e4a1dae69bbd762904ab6",
            "fc66114518164ab5ab0b0748d377e7bc",
            "0e905328ad394f6283cff2e5544f7ed9",
            "f104c8b790754c048b1e50dc7daf8219",
            "4c09d03cdda84a6383d65580722331d0",
            "867ca59eeac44421b9b85692f09bfaf3",
            "26475c1d897340a6b42c6405f386f030",
            "8839b1ca849449d9bfc18c03d98478a0",
            "4e25cd2aef1942e7b19d48451ce24c0f",
            "8024c2a5ba6d4441904402807a4aed6a",
            "e7da080f031c47869b4a4f55a2af9f40",
            "7325c9ff5a184ac99be88619abb8a76a",
            "f02250cdf041463583d5c8c6e8cc044f",
            "1cfb4e115cf244a99dee978d06be7a3b",
            "06356ea66041455ebb68aaf3d6f31ca7",
            "354c4b08ef0e4b7d9c273ecd1e91314e",
            "6272ef28403f4851b3060827633ecf94",
            "205b6b6467db4e6cab16892114e389f8",
            "e01008590c4b422191fac7629a00bcae",
            "c7127802ec3e4473ba2c7fce538ece61",
            "a0fb191069df4899bf0cdee4b5843645",
            "5ac9169a15744f02aeae49639da71a99",
            "0cf3e9c3e3c1469a9d7e35cbdafc4fbd",
            "dc3333faa2bf4a21bbbbfbf16cf3de68",
            "597ca79e407f4645b4048d7fe41833ef",
            "cd9a040472014e4fa5ceb6d09e928f15",
            "b826d09e7b994a849d2bd16e7196dc11",
            "19777bc43a0a4bc4843c7290903b900f",
            "bffcedbcd2794a0a828e7235f769404d",
            "45a730255c6b4167b1459f2a9b9476d8",
            "278bbe7a7a22484f89c6b5d93bb7fb9e",
            "02f70ef7988f47c68200a5ca5cb76da0",
            "cc7fef528cb7488b97e8f61dd95f88fd",
            "7992a1af4bcb422d9b532611119a075d",
            "1d0c4a0a25a24d1faeb1d889ba86af54",
            "442baa2724fd448d89fcaf7cf10232bc",
            "11e732809fe34c24adf1b322a0fa8a98",
            "0dcb63d11dae48a88e58c2b956c933c6",
            "d929be3641fe438eb95a44a7dd6823e8",
            "58ecf61f7fe645f692aa754e24f49700",
            "bd6884cc0849423087ac744cb9a226f3",
            "d217e15af2aa441a9f5bde3d41d415ab",
            "5c2d803ffa2c45ec940ded1386bacb85",
            "b61b0a2a565d44ed8d3c01f05ece6e6d",
            "f7ee215583cf4202a19c1021b6164db6",
            "19b1b6cc094c4272a2d369222eec6901",
            "176f8bbd7d784e7b93c5c9179b47a629",
            "bc96d8cefbe04903b721d22ac903ddd7",
            "544a3d457cbc44e6bf90a440e519084c",
            "9a1b66552c8745b0bcee133c4f944467",
            "48b416a3579949539769d9b1aad6c629",
            "44d7536ef2444b29b4d8e978a15ae234",
            "df77b3329b664bfe9b8ae8332da4682c",
            "398876b7551c45068aade6b94e1a430c",
            "9637e72f452e477ea644517712664b07",
            "28123430011944c4924aa3c3698fb286",
            "a519ec81056444b9bc33d923713347a0",
            "f3e8287b4b4c45e5973e5d9eca7b95e9",
            "63ed2ee276de4a09b5795611dc58335b",
            "89727e820c7a41d39d311257cc42660c",
            "fecd3ee3139d47929cedb0ba22842755",
            "1b376857a92f4a60ae1491d4d833617b",
            "e6ed9691d79846e488ca202cba505aef",
            "079e67c157114568bd3de010ecba1af1",
            "a0c241b9d3094a92a9580455599adfab",
            "41ba03f07a634cddb54a8f112a9c9219",
            "f83cc5c311f44f458e4dc1c9de911ef0",
            "ef6fc6479b4a48dca7d1ed0929ffa91e",
            "41c26555d0324280bdd0df5f9083a849",
            "9bd136eb94634936ad55585f90e720a5",
            "e25db34308e34313b0bfe8d6ee98d7eb",
            "dabe77de6589434e9c07cdeb4e4a10da",
            "141749288c9d4c28ab01967ec499a29d",
            "f67dd6d75fd049fbbb5ecfc919b59204",
            "af31e6af0bea418ea7209c61bd4c2eed",
            "9d7b542fd773437cb663a5c0472c77fe",
            "2b6602217f0d42b993da89ea29526330",
            "af544fbfb98946639214e72f53d7e1e4",
            "f95cd3a12b3e434f8e87515c9a811d50",
            "832d0370b9a44824a21ab228564e8de4",
            "e55348c96fc04afb8ba09229cb4ab4d3",
            "de9185d10a1a483c8b28e1ebb787dc66",
            "659004cccf154f819689ffd233a10ed5",
            "be43532a326e467099c241a0ea30dc83"
          ]
        },
        "id": "HNKUeEMGjbRw",
        "outputId": "5243b8a9-b7fd-47c0-d28c-db1f1975e559"
      },
      "source": [
        "display_image_cleaner(path)   # GUI to display images, delete the unwanted ones to clean the dataset\n",
        "# Need to go through all the classes and clean the unwanted ones\n",
        "# Cleaning the datasets will greatly increase our model accuracy"
      ],
      "execution_count": null,
      "outputs": [
        {
          "output_type": "display_data",
          "data": {
            "application/vnd.jupyter.widget-view+json": {
              "model_id": "5adfc8b1ab5e4a1dae69bbd762904ab6",
              "version_minor": 0,
              "version_major": 2
            },
            "text/plain": [
              "HBox(children=(Button(description='|<<', layout=Layout(width='60px'), style=ButtonStyle()), Button(description…"
            ]
          },
          "metadata": {
            "tags": []
          }
        },
        {
          "output_type": "display_data",
          "data": {
            "application/vnd.jupyter.widget-view+json": {
              "model_id": "dc3333faa2bf4a21bbbbfbf16cf3de68",
              "version_minor": 0,
              "version_major": 2
            },
            "text/plain": [
              "HTML(value='<h2>No images left to display in this folder.</h2>', layout=Layout(visibility='hidden'))"
            ]
          },
          "metadata": {
            "tags": []
          }
        },
        {
          "output_type": "display_data",
          "data": {
            "application/vnd.jupyter.widget-view+json": {
              "model_id": "b826d09e7b994a849d2bd16e7196dc11",
              "version_minor": 0,
              "version_major": 2
            },
            "text/plain": [
              "GridBox(children=(VBox(children=(Image(value=b'', layout=\"Layout(width='150px')\"), Button(description='Delete'…"
            ]
          },
          "metadata": {
            "tags": []
          }
        }
      ]
    },
    {
      "cell_type": "code",
      "metadata": {
        "colab": {
          "base_uri": "https://localhost:8080/"
        },
        "id": "ElqQHkWPSuH6",
        "outputId": "b12780c3-a296-4656-b199-df5e690bcdc5"
      },
      "source": [
        "fns = get_image_files(path) # this returns the all the paths of the images\n",
        "fns"
      ],
      "execution_count": null,
      "outputs": [
        {
          "output_type": "execute_result",
          "data": {
            "text/plain": [
              "(#300) [Path('/content/animals/teddy_bear/071_eedee4d9.jpg'),Path('/content/animals/teddy_bear/082_1de11cd5.jpg'),Path('/content/animals/teddy_bear/059_233c8c27.jpg'),Path('/content/animals/teddy_bear/048_eebdf865.jpg'),Path('/content/animals/teddy_bear/004_145c741e.jpg'),Path('/content/animals/teddy_bear/075_a805b668.jpg'),Path('/content/animals/teddy_bear/032_40a08851.jpg'),Path('/content/animals/teddy_bear/096_e765d1d0.jpg'),Path('/content/animals/teddy_bear/037_cc045ec3.jpg'),Path('/content/animals/teddy_bear/077_0ef5f14a.jpg')...]"
            ]
          },
          "metadata": {
            "tags": []
          },
          "execution_count": 6
        }
      ]
    },
    {
      "cell_type": "code",
      "metadata": {
        "colab": {
          "base_uri": "https://localhost:8080/"
        },
        "id": "mIPdAJmmSuO3",
        "outputId": "309fad66-aff7-4fa4-e265-55a6e531567b"
      },
      "source": [
        "failed = verify_images(fns) # verify that all the stuff we downloaded are images\n",
        "failed"
      ],
      "execution_count": null,
      "outputs": [
        {
          "output_type": "execute_result",
          "data": {
            "text/plain": [
              "(#0) []"
            ]
          },
          "metadata": {
            "tags": []
          },
          "execution_count": 7
        }
      ]
    },
    {
      "cell_type": "code",
      "metadata": {
        "id": "9YVlRVLWSuXr"
      },
      "source": [
        "failed.map(Path.unlink);  # unlinking failed images from our path "
      ],
      "execution_count": null,
      "outputs": []
    },
    {
      "cell_type": "code",
      "metadata": {
        "id": "XGwlBomsTkVS"
      },
      "source": [
        "# Creating DataBlock object\n",
        "# DataBlock Object sends our images to Data Loaders\n",
        "# Data loaders convert our data in such form which our learner can understand and interpret\n",
        "animals = DataBlock(     \n",
        "    blocks=(ImageBlock,CategoryBlock),\n",
        "    get_items=get_image_files,\n",
        "    splitter=RandomSplitter(valid_pct=0.2,seed=42),  #splits the dataset into a training set and validation set\n",
        "    get_y=parent_label,\n",
        "    item_tfms=RandomResizedCrop(224, min_scale=0.5),\n",
        "    batch_tfms=aug_transforms())"
      ],
      "execution_count": null,
      "outputs": []
    },
    {
      "cell_type": "code",
      "metadata": {
        "id": "uZP-jxsvjbWx",
        "colab": {
          "base_uri": "https://localhost:8080/"
        },
        "outputId": "006bcb1c-8b07-410c-bae9-6b3ec274ece2"
      },
      "source": [
        "dls = animals.dataloaders(path)   # dls is our dataloaders object"
      ],
      "execution_count": null,
      "outputs": [
        {
          "output_type": "stream",
          "text": [
            "/usr/local/lib/python3.7/dist-packages/torch/_tensor.py:1023: UserWarning: torch.solve is deprecated in favor of torch.linalg.solveand will be removed in a future PyTorch release.\n",
            "torch.linalg.solve has its arguments reversed and does not return the LU factorization.\n",
            "To get the LU factorization see torch.lu, which can be used with torch.lu_solve or torch.lu_unpack.\n",
            "X = torch.solve(B, A).solution\n",
            "should be replaced with\n",
            "X = torch.linalg.solve(A, B) (Triggered internally at  /pytorch/aten/src/ATen/native/BatchLinearAlgebra.cpp:760.)\n",
            "  ret = func(*args, **kwargs)\n"
          ],
          "name": "stderr"
        }
      ]
    },
    {
      "cell_type": "code",
      "metadata": {
        "colab": {
          "base_uri": "https://localhost:8080/",
          "height": 192
        },
        "id": "FjxAu5tgUSAm",
        "outputId": "9303a4b0-701f-4495-d7ae-98d695721fee"
      },
      "source": [
        "dls.valid.show_batch(max_n=4, nrows=1)"
      ],
      "execution_count": null,
      "outputs": [
        {
          "output_type": "display_data",
          "data": {
            "image/png": "[encoded data removed]",
            "text/plain": [
              "<Figure size 864x216 with 4 Axes>"
            ]
          },
          "metadata": {
            "tags": [],
            "needs_background": "light"
          }
        }
      ]
    },
    {
      "cell_type": "code",
      "metadata": {
        "colab": {
          "base_uri": "https://localhost:8080/",
          "height": 363,
          "referenced_widgets": [
            "397ce021fcd14c5a8beddf73317ce1c8",
            "05328e949249479aa989d9c2d96187d9",
            "157ebc09e4074d049dbca441aed85dfc",
            "d7bb88653d2445d886abcc90eb8c034b",
            "f8865412459a4dcea954b087286cbd31",
            "f1c43416e28841868f7d53aa84f97fa1",
            "0f7aab1180514c37860888ab62b6a0ff",
            "b9d7df99911f42b09a5f5fbf30c84b07"
          ]
        },
        "id": "3zMiR4_fWDO8",
        "outputId": "421b61c6-d5bd-4f4d-c86f-a44816c5a044"
      },
      "source": [
        "# here we pass our dataloader into our cnn learner\n",
        "# cnn learner forms the convolutional neural network\n",
        "# Pre-trained model is also passed to our learner\n",
        "learn = cnn_learner(dls, resnet18, metrics=error_rate)\n",
        "learn.fine_tune(4)\n",
        "# We train our model along with fine tuning the pre-trained model for our data"
      ],
      "execution_count": null,
      "outputs": [
        {
          "output_type": "stream",
          "text": [
            "Downloading: \"https://download.pytorch.org/models/resnet18-f37072fd.pth\" to /root/.cache/torch/hub/checkpoints/resnet18-f37072fd.pth\n"
          ],
          "name": "stderr"
        },
        {
          "output_type": "display_data",
          "data": {
            "application/vnd.jupyter.widget-view+json": {
              "model_id": "397ce021fcd14c5a8beddf73317ce1c8",
              "version_minor": 0,
              "version_major": 2
            },
            "text/plain": [
              "HBox(children=(FloatProgress(value=0.0, max=46830571.0), HTML(value='')))"
            ]
          },
          "metadata": {
            "tags": []
          }
        },
        {
          "output_type": "stream",
          "text": [
            "\n"
          ],
          "name": "stdout"
        },
        {
          "output_type": "stream",
          "text": [
            "/usr/local/lib/python3.7/dist-packages/torch/nn/functional.py:718: UserWarning: Named tensors and all their associated APIs are an experimental feature and subject to change. Please do not use them for anything important until they are released as stable. (Triggered internally at  /pytorch/c10/core/TensorImpl.h:1156.)\n",
            "  return torch.max_pool2d(input, kernel_size, stride, padding, dilation, ceil_mode)\n"
          ],
          "name": "stderr"
        },
        {
          "output_type": "display_data",
          "data": {
            "text/html": [
              "<table border=\"1\" class=\"dataframe\">\n",
              "  <thead>\n",
              "    <tr style=\"text-align: left;\">\n",
              "      <th>epoch</th>\n",
              "      <th>train_loss</th>\n",
              "      <th>valid_loss</th>\n",
              "      <th>error_rate</th>\n",
              "      <th>time</th>\n",
              "    </tr>\n",
              "  </thead>\n",
              "  <tbody>\n",
              "    <tr>\n",
              "      <td>0</td>\n",
              "      <td>1.611132</td>\n",
              "      <td>0.406902</td>\n",
              "      <td>0.200000</td>\n",
              "      <td>00:03</td>\n",
              "    </tr>\n",
              "  </tbody>\n",
              "</table>"
            ],
            "text/plain": [
              "<IPython.core.display.HTML object>"
            ]
          },
          "metadata": {
            "tags": []
          }
        },
        {
          "output_type": "display_data",
          "data": {
            "text/html": [
              "<table border=\"1\" class=\"dataframe\">\n",
              "  <thead>\n",
              "    <tr style=\"text-align: left;\">\n",
              "      <th>epoch</th>\n",
              "      <th>train_loss</th>\n",
              "      <th>valid_loss</th>\n",
              "      <th>error_rate</th>\n",
              "      <th>time</th>\n",
              "    </tr>\n",
              "  </thead>\n",
              "  <tbody>\n",
              "    <tr>\n",
              "      <td>0</td>\n",
              "      <td>0.529908</td>\n",
              "      <td>0.133189</td>\n",
              "      <td>0.033333</td>\n",
              "      <td>00:04</td>\n",
              "    </tr>\n",
              "    <tr>\n",
              "      <td>1</td>\n",
              "      <td>0.414699</td>\n",
              "      <td>0.050231</td>\n",
              "      <td>0.016667</td>\n",
              "      <td>00:04</td>\n",
              "    </tr>\n",
              "    <tr>\n",
              "      <td>2</td>\n",
              "      <td>0.302670</td>\n",
              "      <td>0.030606</td>\n",
              "      <td>0.000000</td>\n",
              "      <td>00:04</td>\n",
              "    </tr>\n",
              "    <tr>\n",
              "      <td>3</td>\n",
              "      <td>0.269033</td>\n",
              "      <td>0.022854</td>\n",
              "      <td>0.000000</td>\n",
              "      <td>00:04</td>\n",
              "    </tr>\n",
              "  </tbody>\n",
              "</table>"
            ],
            "text/plain": [
              "<IPython.core.display.HTML object>"
            ]
          },
          "metadata": {
            "tags": []
          }
        }
      ]
    },
    {
      "cell_type": "code",
      "metadata": {
        "colab": {
          "base_uri": "https://localhost:8080/",
          "height": 311
        },
        "id": "24vY9av0WcR5",
        "outputId": "62540e25-3cc6-4658-8c0f-77287233e05a"
      },
      "source": [
        "interp = ClassificationInterpretation.from_learner(learn)\n",
        "interp.plot_confusion_matrix()"
      ],
      "execution_count": null,
      "outputs": [
        {
          "output_type": "display_data",
          "data": {
            "text/html": [
              ""
            ],
            "text/plain": [
              "<IPython.core.display.HTML object>"
            ]
          },
          "metadata": {
            "tags": []
          }
        },
        {
          "output_type": "display_data",
          "data": {
            "image/png": "[encoded data removed]",
            "text/plain": [
              "<Figure size 432x288 with 1 Axes>"
            ]
          },
          "metadata": {
            "tags": [],
            "needs_background": "light"
          }
        }
      ]
    },
    {
      "cell_type": "code",
      "metadata": {
        "colab": {
          "base_uri": "https://localhost:8080/",
          "height": 954
        },
        "id": "dqofnnwOWDaC",
        "outputId": "04263675-51a6-4345-b13b-873f4cc8cb10"
      },
      "source": [
        "interp.plot_top_losses(5, nrows=5)"
      ],
      "execution_count": null,
      "outputs": [
        {
          "output_type": "display_data",
          "data": {
            "image/png": "[encoded data removed]",
            "text/plain": [
              "<Figure size 216x1080 with 5 Axes>"
            ]
          },
          "metadata": {
            "tags": [],
            "needs_background": "light"
          }
        }
      ]
    },
    {
      "cell_type": "code",
      "metadata": {
        "id": "SOAkb3RFW9Wf",
        "colab": {
          "base_uri": "https://localhost:8080/",
          "height": 49,
          "referenced_widgets": [
            "d66b3a9c337346a7a1328a84aedad107",
            "2243862acf804569ae342b178ecc7f68",
            "ee01aea2648b48f4842b463153920850"
          ]
        },
        "outputId": "d26338b0-44ac-4c85-e595-e6cb613e415e"
      },
      "source": [
        "# This creates an upload button for the image to be taken\n",
        "learn.export()\n",
        "path = Path()\n",
        "path.ls(file_exts='.pkl')\n",
        "\n",
        "learn_inf = load_learner(path/'export.pkl')\n",
        "\n",
        "btn_upload = widgets.FileUpload() #Displays a widget which can be used to upload images from your system\n",
        "btn_upload"
      ],
      "execution_count": null,
      "outputs": [
        {
          "output_type": "display_data",
          "data": {
            "application/vnd.jupyter.widget-view+json": {
              "model_id": "d66b3a9c337346a7a1328a84aedad107",
              "version_minor": 0,
              "version_major": 2
            },
            "text/plain": [
              "FileUpload(value={}, description='Upload')"
            ]
          },
          "metadata": {
            "tags": []
          }
        }
      ]
    },
    {
      "cell_type": "code",
      "metadata": {
        "id": "wWb9Q2y-Xg86",
        "colab": {
          "base_uri": "https://localhost:8080/",
          "height": 145,
          "referenced_widgets": [
            "e8b769fc53dc44f29f5c34e30320277b",
            "cf0090daabca451e8589b8636867ce44"
          ]
        },
        "outputId": "3d14965f-ca1f-4568-caa2-c0d50a145c41"
      },
      "source": [
        "img = PILImage.create(btn_upload.data[-1])\n",
        "\n",
        "out_pl = widgets.Output()\n",
        "out_pl.clear_output()\n",
        "with out_pl: display(img.to_thumb(128,128))   #resizes the uloaded image\n",
        "out_pl"
      ],
      "execution_count": null,
      "outputs": [
        {
          "output_type": "display_data",
          "data": {
            "application/vnd.jupyter.widget-view+json": {
              "model_id": "e8b769fc53dc44f29f5c34e30320277b",
              "version_minor": 0,
              "version_major": 2
            },
            "text/plain": [
              "Output()"
            ]
          },
          "metadata": {
            "tags": []
          }
        }
      ]
    },
    {
      "cell_type": "code",
      "metadata": {
        "id": "lKOrQmRwXhEl",
        "colab": {
          "base_uri": "https://localhost:8080/",
          "height": 48,
          "referenced_widgets": [
            "bc6742cffe8a4050a4e75492b1512ce4",
            "31ff6d4b2b4c4ad08079e6eea78f851d",
            "bd25b11d428f4c90bf617f9118eeaf8f"
          ]
        },
        "outputId": "128764ba-ae8b-4506-bc1f-28e69d3b3339"
      },
      "source": [
        "pred,pred_idx,probs = learn_inf.predict(img)#asks the model to predict the animal in the image!\n",
        "lbl_pred = widgets.Label()\n",
        "lbl_pred.value = f'Prediction: {pred}; Probability: {probs[pred_idx]:.04f}'#displays the output in a readable format\n",
        "lbl_pred"
      ],
      "execution_count": null,
      "outputs": [
        {
          "output_type": "display_data",
          "data": {
            "text/html": [
              ""
            ],
            "text/plain": [
              "<IPython.core.display.HTML object>"
            ]
          },
          "metadata": {
            "tags": []
          }
        },
        {
          "output_type": "display_data",
          "data": {
            "application/vnd.jupyter.widget-view+json": {
              "model_id": "bc6742cffe8a4050a4e75492b1512ce4",
              "version_minor": 0,
              "version_major": 2
            },
            "text/plain": [
              "Label(value='Prediction: teddy_bear; Probability: 1.0000')"
            ]
          },
          "metadata": {
            "tags": []
          }
        }
      ]
    },
    {
      "cell_type": "code",
      "metadata": {
        "id": "6hXSbXQlXhL3",
        "colab": {
          "base_uri": "https://localhost:8080/",
          "height": 49,
          "referenced_widgets": [
            "b2da7a207aeb41a09e4b2a7d48b5511a",
            "7549f587c02e4138b6aad3d78ba4c09a",
            "095d2d5e6bb54fca9cf0e99bb8b9311e"
          ]
        },
        "outputId": "eb5d4860-fbb3-4d91-c1fc-9c31dbc42f86"
      },
      "source": [
        "# Button to classify our upload\n",
        " \n",
        "btn_run = widgets.Button(description='Classify')\n",
        "btn_run"
      ],
      "execution_count": null,
      "outputs": [
        {
          "output_type": "display_data",
          "data": {
            "application/vnd.jupyter.widget-view+json": {
              "model_id": "b2da7a207aeb41a09e4b2a7d48b5511a",
              "version_minor": 0,
              "version_major": 2
            },
            "text/plain": [
              "Button(description='Classify', style=ButtonStyle())"
            ]
          },
          "metadata": {
            "tags": []
          }
        }
      ]
    },
    {
      "cell_type": "code",
      "metadata": {
        "id": "GVOjy5ZelAR-"
      },
      "source": [
        "# This function is called when the button \"Classify\" is clicked\n",
        "def on_click_classify(change):\n",
        "    img = PILImage.create(btn_upload.data[-1])\n",
        "    out_pl.clear_output()\n",
        "    with out_pl: display(img.to_thumb(128,128))\n",
        "    pred,pred_idx,probs = learn_inf.predict(img)\n",
        "    lbl_pred.value = f'Prediction: {pred}; Probability: {probs[pred_idx]:.04f}'\n",
        "\n",
        "btn_run.on_click(on_click_classify)  # on_click function is called when the button is pressed"
      ],
      "execution_count": null,
      "outputs": []
    },
    {
      "cell_type": "code",
      "metadata": {
        "id": "mxEuV1QJlAcJ"
      },
      "source": [
        "#Putting back btn_upload to a widget for next cell\n",
        "btn_upload = widgets.FileUpload()"
      ],
      "execution_count": null,
      "outputs": []
    },
    {
      "cell_type": "code",
      "metadata": {
        "colab": {
          "base_uri": "https://localhost:8080/",
          "height": 273,
          "referenced_widgets": [
            "19066ebd01c644b8a030515bddadbd5e",
            "739aa67614de4d25abcabe74aa4134d6",
            "2107f5085afb4fffb896144ce6a739db",
            "49bfb0968b6f47418ce5b5e62a3ee8ae",
            "b2da7a207aeb41a09e4b2a7d48b5511a",
            "e8b769fc53dc44f29f5c34e30320277b",
            "bc6742cffe8a4050a4e75492b1512ce4",
            "a9fcc204b68040148c1c504a675cd10e",
            "6ff29c466fa84fbf995fbfdc6e52d509",
            "e3130441a44949d7a838713e106a8e2d",
            "a60cd7935cc044d49cdc28d6b1326cff",
            "7549f587c02e4138b6aad3d78ba4c09a",
            "095d2d5e6bb54fca9cf0e99bb8b9311e",
            "31ff6d4b2b4c4ad08079e6eea78f851d",
            "bd25b11d428f4c90bf617f9118eeaf8f",
            "cf0090daabca451e8589b8636867ce44"
          ]
        },
        "id": "KULfwqvMlAkN",
        "outputId": "79077564-105b-41d0-8db9-05f53ce6a5d7"
      },
      "source": [
        "# putting all the butten and classifer button in vertical box\n",
        "VBox([widgets.Label('Select your bear!'), \n",
        "      btn_upload, btn_run, out_pl, lbl_pred])"
      ],
      "execution_count": null,
      "outputs": [
        {
          "output_type": "display_data",
          "data": {
            "application/vnd.jupyter.widget-view+json": {
              "model_id": "19066ebd01c644b8a030515bddadbd5e",
              "version_minor": 0,
              "version_major": 2
            },
            "text/plain": [
              "VBox(children=(Label(value='Select your bear!'), FileUpload(value={}, description='Upload'), Button(descriptio…"
            ]
          },
          "metadata": {
            "tags": []
          }
        },
        {
          "output_type": "display_data",
          "data": {
            "text/html": [
              ""
            ],
            "text/plain": [
              "<IPython.core.display.HTML object>"
            ]
          },
          "metadata": {
            "tags": []
          }
        }
      ]
    },
    {
      "cell_type": "code",
      "metadata": {
        "id": "AGbwF08T2CZQ"
      },
      "source": [
        ""
      ],
      "execution_count": null,
      "outputs": []
    }
  ]
}